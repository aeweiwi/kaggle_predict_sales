{
 "cells": [
  {
   "cell_type": "code",
   "execution_count": 60,
   "metadata": {
    "ExecuteTime": {
     "end_time": "2019-04-25T23:01:06.591983Z",
     "start_time": "2019-04-25T23:01:06.583987Z"
    }
   },
   "outputs": [],
   "source": [
    "import numpy as np\n",
    "import pandas as pd\n",
    "import scipy\n",
    "import xgboost as xgb\n",
    "import matplotlib.pyplot as plt\n",
    "import seaborn as sns\n",
    "from sklearn.ensemble import RandomForestClassifier\n",
    "from scipy.optimize import curve_fit\n",
    "from fbprophet import Prophet\n",
    "from fbprophet import Prophet\n",
    "from scipy.stats import boxcox\n",
    "from multiprocessing import Pool, cpu_count\n",
    "import tqdm\n",
    "from xgboost import XGBRegressor\n",
    "from sklearn.preprocessing import LabelEncoder\n",
    "import re, string, timeit\n",
    "from xgboost import plot_importance\n",
    "from gensim.models import Word2Vec \n",
    "sns.set(style=\"darkgrid\")\n",
    "\n",
    "%matplotlib inline"
   ]
  },
  {
   "cell_type": "code",
   "execution_count": 61,
   "metadata": {
    "ExecuteTime": {
     "end_time": "2019-04-25T23:01:07.960550Z",
     "start_time": "2019-04-25T23:01:06.815526Z"
    }
   },
   "outputs": [],
   "source": [
    "items = pd.read_csv('items.csv')\n",
    "item_cat = pd.read_csv('item_categories.csv')\n",
    "shops = pd.read_csv('shops.csv')\n",
    "sales_tr = pd.read_csv('sales_train_v2.csv')\n",
    "test_df = pd.read_csv('test.csv')"
   ]
  },
  {
   "cell_type": "code",
   "execution_count": 62,
   "metadata": {
    "ExecuteTime": {
     "end_time": "2019-04-25T23:01:08.841532Z",
     "start_time": "2019-04-25T23:01:07.961545Z"
    }
   },
   "outputs": [
    {
     "name": "stdout",
     "output_type": "stream",
     "text": [
      "shops in train not in test is {0, 1, 32, 33, 8, 9, 40, 11, 43, 13, 17, 51, 20, 54, 23, 27, 29, 30}\n",
      "shops in test not in train is  set()\n",
      "items in train not in test is [0, 1, 2, 3, 4, 5, 6, 7, 8, 9]\n",
      "count of items in train not in test is 17070\n",
      "count of items in test not in train is 363\n"
     ]
    }
   ],
   "source": [
    "print ('shops in train not in test is', set(sales_tr['shop_id']) - set(test_df['shop_id']))\n",
    "print ('shops in test not in train is ', set(test_df['shop_id']) - set(sales_tr['shop_id']))\n",
    "\n",
    "val1 = set(sales_tr['item_id']) - set(test_df['item_id'])\n",
    "val2 = set(test_df['item_id']) - set(sales_tr['item_id'])\n",
    "print ('items in train not in test is', list(val1)[:10])\n",
    "print ('count of items in train not in test is', len(list(val1)))\n",
    "print ('count of items in test not in train is', len(list(val2)))\n"
   ]
  },
  {
   "cell_type": "code",
   "execution_count": 63,
   "metadata": {
    "ExecuteTime": {
     "end_time": "2019-04-25T23:01:09.341694Z",
     "start_time": "2019-04-25T23:01:09.335693Z"
    }
   },
   "outputs": [],
   "source": [
    "days_per_month = pd.Series({0:31, 1:28, 2: 31, 3: 30, 4: 31, 5: 30, 6: 31, 7: 31, 8: 30, 9: 31, 10: 30, 11: 30})"
   ]
  },
  {
   "cell_type": "code",
   "execution_count": 66,
   "metadata": {
    "ExecuteTime": {
     "end_time": "2019-04-25T23:03:32.726496Z",
     "start_time": "2019-04-25T23:03:32.385540Z"
    }
   },
   "outputs": [],
   "source": [
    "offer_times = sales_tr.groupby(['item_id', 'shop_id'], as_index=False)['item_price'].count()"
   ]
  },
  {
   "cell_type": "code",
   "execution_count": 64,
   "metadata": {
    "ExecuteTime": {
     "end_time": "2019-04-25T23:01:10.609761Z",
     "start_time": "2019-04-25T23:01:10.359759Z"
    }
   },
   "outputs": [],
   "source": [
    "sales_tr.head()\n",
    "sales_tr = sales_tr[sales_tr['item_price'] < 10000]\n",
    "sales_tr = sales_tr[sales_tr['item_cnt_day'] < 600]\n",
    "#sales_tr['item_cnt_day'] = sales_tr['item_cnt_day'].clip(0,100)"
   ]
  },
  {
   "cell_type": "code",
   "execution_count": 65,
   "metadata": {
    "ExecuteTime": {
     "end_time": "2019-04-25T23:01:11.573765Z",
     "start_time": "2019-04-25T23:01:11.224770Z"
    }
   },
   "outputs": [],
   "source": [
    "sales_tr.loc[sales_tr.shop_id == 0, 'shop_id'] = 57\n",
    "test_df.loc[test_df.shop_id == 0, 'shop_id'] = 57\n",
    "# Якутск ТЦ \"Центральный\"\n",
    "sales_tr.loc[sales_tr.shop_id == 1, 'shop_id'] = 58\n",
    "test_df.loc[test_df.shop_id == 1, 'shop_id'] = 58\n",
    "# Жуковский ул. Чкалова 39м²\n",
    "sales_tr.loc[sales_tr.shop_id == 10, 'shop_id'] = 11\n",
    "test_df.loc[test_df.shop_id == 10, 'shop_id'] = 11"
   ]
  },
  {
   "cell_type": "code",
   "execution_count": 7,
   "metadata": {
    "ExecuteTime": {
     "end_time": "2019-04-25T22:36:03.916325Z",
     "start_time": "2019-04-25T22:36:00.987358Z"
    }
   },
   "outputs": [
    {
     "name": "stderr",
     "output_type": "stream",
     "text": [
      "C:\\programs\\envs\\kaggle\\lib\\site-packages\\pandas\\core\\groupby\\generic.py:1315: FutureWarning: using a dict with renaming is deprecated and will be removed in a future version\n",
      "  return super(DataFrameGroupBy, self).aggregate(arg, *args, **kwargs)\n"
     ]
    }
   ],
   "source": [
    "matrix = sales_tr.groupby(['date_block_num', 'item_id', 'shop_id'], as_index=False).agg({'item_price': {'count_prices': 'count'}, 'item_cnt_day': 'sum'})\n",
    "matrix.columns = ['date_block_num', 'item_id', 'shop_id',  'count_prices', 'item_cnt_month']\n",
    "matrix.loc[matrix['item_cnt_month'] < 0, 'item_cnt_month'] = 0\n",
    "matrix['ID'] = -1\n"
   ]
  },
  {
   "cell_type": "code",
   "execution_count": 8,
   "metadata": {
    "ExecuteTime": {
     "end_time": "2019-04-25T22:36:03.925325Z",
     "start_time": "2019-04-25T22:36:03.918327Z"
    }
   },
   "outputs": [
    {
     "data": {
      "text/plain": [
       "(1600374, 6)"
      ]
     },
     "execution_count": 8,
     "metadata": {},
     "output_type": "execute_result"
    }
   ],
   "source": [
    "matrix.shape"
   ]
  },
  {
   "cell_type": "code",
   "execution_count": 9,
   "metadata": {
    "ExecuteTime": {
     "end_time": "2019-04-25T22:36:03.936325Z",
     "start_time": "2019-04-25T22:36:03.927326Z"
    }
   },
   "outputs": [],
   "source": [
    "test_df['item_cnt_month'] = 0\n",
    "test_df['date_block_num'] = 34"
   ]
  },
  {
   "cell_type": "code",
   "execution_count": 10,
   "metadata": {
    "ExecuteTime": {
     "end_time": "2019-04-25T22:36:03.945325Z",
     "start_time": "2019-04-25T22:36:03.937325Z"
    }
   },
   "outputs": [
    {
     "data": {
      "text/plain": [
       "(214200, 5)"
      ]
     },
     "execution_count": 10,
     "metadata": {},
     "output_type": "execute_result"
    }
   ],
   "source": [
    "test_df.shape"
   ]
  },
  {
   "cell_type": "code",
   "execution_count": 11,
   "metadata": {
    "ExecuteTime": {
     "end_time": "2019-04-25T22:36:04.096351Z",
     "start_time": "2019-04-25T22:36:03.946328Z"
    }
   },
   "outputs": [],
   "source": [
    "matrix = pd.concat([matrix, test_df], axis=0, sort=True)"
   ]
  },
  {
   "cell_type": "code",
   "execution_count": 12,
   "metadata": {
    "ExecuteTime": {
     "end_time": "2019-04-25T22:36:04.110326Z",
     "start_time": "2019-04-25T22:36:04.097352Z"
    }
   },
   "outputs": [],
   "source": [
    "shops = shops.sort_values(by=['shop_name'])\n",
    "shops['city'] = shops['shop_name'].str.split(' ').apply(lambda x: x[0].strip())\n",
    "shops.loc[(shops['city'] == u'!Якутск'), 'city'] = u'Якутск'\n",
    "#shops['city'] = shops['city'].factorize()[0]\n",
    "shops['city'] = LabelEncoder().fit_transform(shops['city'])\n",
    "\n",
    "shops['shop_type']  = shops['shop_name'].str.split(' ').apply(lambda x: '_'.join([re.sub(r'[^\\w\\s]','',t) for t in x[1:2]]))\n",
    "shops['shop_type'] = LabelEncoder().fit_transform(shops['shop_type'])\n",
    "shops['shop_lname'] = shops['shop_name'].str.split(' ').apply(lambda x: '_'.join([re.sub(r'[^\\w\\s]','',t) for t in x[2:]]))\n",
    "shops['shop_lname'] = LabelEncoder().fit_transform(shops['shop_lname'])"
   ]
  },
  {
   "cell_type": "code",
   "execution_count": 13,
   "metadata": {
    "ExecuteTime": {
     "end_time": "2019-04-25T22:36:04.122327Z",
     "start_time": "2019-04-25T22:36:04.111357Z"
    }
   },
   "outputs": [],
   "source": [
    "item_cat = item_cat.sort_values(by=['item_category_name'])\n",
    "item_cat['item_cat_level1'] = item_cat['item_category_name'].str.split('-').apply(lambda x: x[0].strip())\n",
    "#item_cat['item_cat_level1'] = item_cat['item_cat_level1'].factorize()[0]\n",
    "item_cat['item_cat_level1'] = LabelEncoder().fit_transform(item_cat['item_cat_level1'])\n",
    "\n",
    "item_cat['item_cat_level2'] = item_cat['item_category_name'].str.split('-').apply(lambda x: x[0].strip())\n",
    "#item_cat['item_cat_level2'] = item_cat['item_cat_level2'].factorize()[0]\n",
    "item_cat['item_cat_level2'] = LabelEncoder().fit_transform(item_cat['item_cat_level2'])\n",
    "\n",
    "#item_cat['item_category_name'] = item_cat['item_category_name'].factorize()[0]"
   ]
  },
  {
   "cell_type": "code",
   "execution_count": 14,
   "metadata": {
    "ExecuteTime": {
     "end_time": "2019-04-25T22:36:04.138326Z",
     "start_time": "2019-04-25T22:36:04.123327Z"
    }
   },
   "outputs": [
    {
     "data": {
      "text/html": [
       "<div>\n",
       "<style scoped>\n",
       "    .dataframe tbody tr th:only-of-type {\n",
       "        vertical-align: middle;\n",
       "    }\n",
       "\n",
       "    .dataframe tbody tr th {\n",
       "        vertical-align: top;\n",
       "    }\n",
       "\n",
       "    .dataframe thead th {\n",
       "        text-align: right;\n",
       "    }\n",
       "</style>\n",
       "<table border=\"1\" class=\"dataframe\">\n",
       "  <thead>\n",
       "    <tr style=\"text-align: right;\">\n",
       "      <th></th>\n",
       "      <th>item_category_name</th>\n",
       "      <th>item_category_id</th>\n",
       "      <th>item_cat_level1</th>\n",
       "      <th>item_cat_level2</th>\n",
       "    </tr>\n",
       "  </thead>\n",
       "  <tbody>\n",
       "    <tr>\n",
       "      <th>0</th>\n",
       "      <td>PC - Гарнитуры/Наушники</td>\n",
       "      <td>0</td>\n",
       "      <td>0</td>\n",
       "      <td>0</td>\n",
       "    </tr>\n",
       "    <tr>\n",
       "      <th>1</th>\n",
       "      <td>Аксессуары - PS2</td>\n",
       "      <td>1</td>\n",
       "      <td>1</td>\n",
       "      <td>1</td>\n",
       "    </tr>\n",
       "    <tr>\n",
       "      <th>2</th>\n",
       "      <td>Аксессуары - PS3</td>\n",
       "      <td>2</td>\n",
       "      <td>1</td>\n",
       "      <td>1</td>\n",
       "    </tr>\n",
       "    <tr>\n",
       "      <th>3</th>\n",
       "      <td>Аксессуары - PS4</td>\n",
       "      <td>3</td>\n",
       "      <td>1</td>\n",
       "      <td>1</td>\n",
       "    </tr>\n",
       "    <tr>\n",
       "      <th>4</th>\n",
       "      <td>Аксессуары - PSP</td>\n",
       "      <td>4</td>\n",
       "      <td>1</td>\n",
       "      <td>1</td>\n",
       "    </tr>\n",
       "  </tbody>\n",
       "</table>\n",
       "</div>"
      ],
      "text/plain": [
       "        item_category_name  item_category_id  item_cat_level1  item_cat_level2\n",
       "0  PC - Гарнитуры/Наушники                 0                0                0\n",
       "1         Аксессуары - PS2                 1                1                1\n",
       "2         Аксессуары - PS3                 2                1                1\n",
       "3         Аксессуары - PS4                 3                1                1\n",
       "4         Аксессуары - PSP                 4                1                1"
      ]
     },
     "execution_count": 14,
     "metadata": {},
     "output_type": "execute_result"
    }
   ],
   "source": [
    "item_cat.head()"
   ]
  },
  {
   "cell_type": "code",
   "execution_count": 15,
   "metadata": {
    "ExecuteTime": {
     "end_time": "2019-04-25T22:36:04.142327Z",
     "start_time": "2019-04-25T22:36:04.139356Z"
    }
   },
   "outputs": [
    {
     "data": {
      "text/plain": [
       "(1814574, 6)"
      ]
     },
     "execution_count": 15,
     "metadata": {},
     "output_type": "execute_result"
    }
   ],
   "source": [
    "matrix.shape"
   ]
  },
  {
   "cell_type": "code",
   "execution_count": 16,
   "metadata": {
    "ExecuteTime": {
     "end_time": "2019-04-25T22:36:05.160358Z",
     "start_time": "2019-04-25T22:36:04.143330Z"
    }
   },
   "outputs": [
    {
     "name": "stdout",
     "output_type": "stream",
     "text": [
      "(1814574, 6)\n",
      "(1814574, 10)\n",
      "(1814574, 12)\n",
      "(1814574, 15)\n"
     ]
    }
   ],
   "source": [
    "print (matrix.shape)\n",
    "\n",
    "matrix = pd.merge(matrix, shops, left_on='shop_id', right_on='shop_id', how='left')\n",
    "print (matrix.shape)\n",
    "matrix = pd.merge(matrix, items, left_on='item_id', right_on='item_id', how='left')\n",
    "print (matrix.shape)\n",
    "matrix = pd.merge(matrix, item_cat, left_on='item_category_id', right_on='item_category_id', how='left')\n",
    "print (matrix.shape)\n",
    "matrix['month'] =  (matrix['date_block_num'])%12\n",
    "matrix['days_per_month'] = matrix['month'].map(days_per_month)"
   ]
  },
  {
   "cell_type": "code",
   "execution_count": 17,
   "metadata": {
    "ExecuteTime": {
     "end_time": "2019-04-25T22:36:05.372328Z",
     "start_time": "2019-04-25T22:36:05.161328Z"
    }
   },
   "outputs": [
    {
     "name": "stdout",
     "output_type": "stream",
     "text": [
      "<class 'pandas.core.frame.DataFrame'>\n",
      "Int64Index: 1814574 entries, 0 to 1814573\n",
      "Data columns (total 17 columns):\n",
      "ID                    int64\n",
      "count_prices          float64\n",
      "date_block_num        int64\n",
      "item_cnt_month        float64\n",
      "item_id               int64\n",
      "shop_id               int64\n",
      "shop_name             object\n",
      "city                  int32\n",
      "shop_type             int32\n",
      "shop_lname            int32\n",
      "item_name             object\n",
      "item_category_id      int64\n",
      "item_category_name    object\n",
      "item_cat_level1       int32\n",
      "item_cat_level2       int32\n",
      "month                 int64\n",
      "days_per_month        int64\n",
      "dtypes: float64(2), int32(5), int64(7), object(3)\n",
      "memory usage: 214.6+ MB\n"
     ]
    }
   ],
   "source": [
    "matrix.info()"
   ]
  },
  {
   "cell_type": "code",
   "execution_count": 18,
   "metadata": {
    "ExecuteTime": {
     "end_time": "2019-04-25T22:36:05.616359Z",
     "start_time": "2019-04-25T22:36:05.373328Z"
    }
   },
   "outputs": [],
   "source": [
    "\n",
    "matrix.ID = matrix.ID.astype('int64')\n",
    "matrix.date_block_num = matrix.date_block_num.astype('uint8')\n",
    "matrix.item_cnt_month = matrix.item_cnt_month.astype('int16')\n",
    "matrix.item_id = matrix.item_id.astype('int16')\n",
    "matrix.shop_id = matrix.shop_id.astype('int16')\n",
    "matrix.item_category_id = matrix.item_category_id.astype('float16')\n",
    "matrix.days_per_month = matrix.days_per_month.astype('float16')\n",
    "matrix.item_cat_level1 = matrix.item_cat_level1.astype('float16')\n",
    "matrix.item_cat_level2 = matrix.item_cat_level2.astype('float16')\n"
   ]
  },
  {
   "cell_type": "code",
   "execution_count": 19,
   "metadata": {
    "ExecuteTime": {
     "end_time": "2019-04-25T22:36:06.245359Z",
     "start_time": "2019-04-25T22:36:05.617338Z"
    }
   },
   "outputs": [],
   "source": [
    "# construct item_id, shop_id sales matrix\n",
    "sales_matrix = matrix.groupby(['item_id', 'shop_id'])['item_cnt_month'].sum().unstack('shop_id')\n",
    "\n",
    "shop_id_sales_me_na = sales_matrix.mean(axis=0)\n",
    "shop_id_sales_me_z = sales_matrix.fillna(0).mean(axis=0)\n",
    "item_id_sales_me_na = sales_matrix.mean(axis=1)\n",
    "item_id_sales_me_z = sales_matrix.fillna(0).mean(axis=1)\n",
    "\n",
    "\n",
    "# mean encoding for shop id based on sales\n",
    "matrix['m_shop_id_sales_me_na'] = matrix['shop_id'].map(shop_id_sales_me_na)\n",
    "matrix['m_shop_id_sales_me_z'] = matrix['shop_id'].map(shop_id_sales_me_z)\n",
    "\n",
    "# mean encoding for item_id based on sales\n",
    "matrix['m_item_id_sales_me_na'] = matrix['item_id'].map(item_id_sales_me_na)\n",
    "matrix['m_item_id_sales_me_z'] = matrix['item_id'].map(item_id_sales_me_z)\n",
    "\n",
    "del sales_matrix\n",
    "del shop_id_sales_me_na\n",
    "del shop_id_sales_me_z\n",
    "del item_id_sales_me_na\n",
    "del item_id_sales_me_z"
   ]
  },
  {
   "cell_type": "code",
   "execution_count": 20,
   "metadata": {
    "ExecuteTime": {
     "end_time": "2019-04-25T22:36:06.252358Z",
     "start_time": "2019-04-25T22:36:06.246326Z"
    }
   },
   "outputs": [],
   "source": [
    "def lag_feature(df, lags, col):\n",
    "    tmp = df[['date_block_num','shop_id','item_id',col]]\n",
    "    for i in lags:\n",
    "        shifted = tmp.copy()\n",
    "        shifted.columns = ['date_block_num','shop_id','item_id', col+'_lag_'+str(i)]\n",
    "        shifted['date_block_num'] += i\n",
    "        df = pd.merge(df, shifted, on=['date_block_num','shop_id','item_id'], how='left')\n",
    "    return df"
   ]
  },
  {
   "cell_type": "code",
   "execution_count": 21,
   "metadata": {
    "ExecuteTime": {
     "end_time": "2019-04-25T22:36:07.559358Z",
     "start_time": "2019-04-25T22:36:06.253356Z"
    }
   },
   "outputs": [],
   "source": [
    "matrix = lag_feature(matrix, [1], 'item_cnt_month')"
   ]
  },
  {
   "cell_type": "code",
   "execution_count": 22,
   "metadata": {
    "ExecuteTime": {
     "end_time": "2019-04-25T22:36:07.745358Z",
     "start_time": "2019-04-25T22:36:07.562331Z"
    }
   },
   "outputs": [
    {
     "name": "stdout",
     "output_type": "stream",
     "text": [
      "<class 'pandas.core.frame.DataFrame'>\n",
      "Int64Index: 1814574 entries, 0 to 1814573\n",
      "Data columns (total 22 columns):\n",
      "ID                       int64\n",
      "count_prices             float64\n",
      "date_block_num           uint8\n",
      "item_cnt_month           int16\n",
      "item_id                  int16\n",
      "shop_id                  int16\n",
      "shop_name                object\n",
      "city                     int32\n",
      "shop_type                int32\n",
      "shop_lname               int32\n",
      "item_name                object\n",
      "item_category_id         float16\n",
      "item_category_name       object\n",
      "item_cat_level1          float16\n",
      "item_cat_level2          float16\n",
      "month                    int64\n",
      "days_per_month           float16\n",
      "m_shop_id_sales_me_na    float64\n",
      "m_shop_id_sales_me_z     float64\n",
      "m_item_id_sales_me_na    float64\n",
      "m_item_id_sales_me_z     float64\n",
      "item_cnt_month_lag_1     float64\n",
      "dtypes: float16(4), float64(6), int16(3), int32(3), int64(2), object(3), uint8(1)\n",
      "memory usage: 212.9+ MB\n"
     ]
    }
   ],
   "source": [
    "matrix.info()"
   ]
  },
  {
   "cell_type": "code",
   "execution_count": 23,
   "metadata": {
    "ExecuteTime": {
     "end_time": "2019-04-25T22:36:10.074359Z",
     "start_time": "2019-04-25T22:36:07.746325Z"
    }
   },
   "outputs": [
    {
     "name": "stdout",
     "output_type": "stream",
     "text": [
      "(1814574, 23)\n",
      "(1814574, 24)\n"
     ]
    }
   ],
   "source": [
    "group = matrix.groupby(['date_block_num', 'shop_id'], as_index=False)['item_cnt_month'].mean()\n",
    "group.columns = ['date_block_num', 'shop_id', 'mean_shop_sales']\n",
    "matrix = pd.merge(matrix, group, left_on = ['date_block_num', 'shop_id'], right_on=['date_block_num', 'shop_id'], how='left')\n",
    "print (matrix.shape)\n",
    "\n",
    "matrix = lag_feature(matrix, [1], 'mean_shop_sales')\n",
    "print (matrix.shape)"
   ]
  },
  {
   "cell_type": "code",
   "execution_count": 24,
   "metadata": {
    "ExecuteTime": {
     "end_time": "2019-04-25T22:36:12.925325Z",
     "start_time": "2019-04-25T22:36:10.075360Z"
    }
   },
   "outputs": [
    {
     "name": "stdout",
     "output_type": "stream",
     "text": [
      "(1814574, 25)\n",
      "(1814574, 26)\n"
     ]
    }
   ],
   "source": [
    "group = matrix.groupby(['date_block_num', 'item_category_id'], as_index=False)['item_cnt_month'].mean()\n",
    "group.columns = ['date_block_num', 'item_category_id', 'mean_item_cat_sales']\n",
    "matrix = pd.merge(matrix, group, left_on = ['date_block_num', 'item_category_id'], right_on=['date_block_num', 'item_category_id'], how='left')\n",
    "print (matrix.shape)\n",
    "\n",
    "matrix = lag_feature(matrix, [1], 'mean_item_cat_sales')\n",
    "print (matrix.shape)"
   ]
  },
  {
   "cell_type": "code",
   "execution_count": 25,
   "metadata": {
    "ExecuteTime": {
     "end_time": "2019-04-25T22:36:16.006356Z",
     "start_time": "2019-04-25T22:36:12.926326Z"
    }
   },
   "outputs": [
    {
     "name": "stdout",
     "output_type": "stream",
     "text": [
      "(1814574, 27)\n",
      "(1814574, 28)\n"
     ]
    }
   ],
   "source": [
    "group = matrix.groupby(['date_block_num', 'item_id'], as_index=False)['item_cnt_month'].mean()\n",
    "group.columns = ['date_block_num', 'item_id', 'mean_item_sales']\n",
    "matrix = pd.merge(matrix, group, left_on = ['date_block_num', 'item_id'], right_on=['date_block_num', 'item_id'], how='left')\n",
    "print (matrix.shape)\n",
    "\n",
    "matrix = lag_feature(matrix, [1], 'mean_item_sales')\n",
    "print (matrix.shape)"
   ]
  },
  {
   "cell_type": "code",
   "execution_count": 26,
   "metadata": {
    "ExecuteTime": {
     "end_time": "2019-04-25T22:36:19.992254Z",
     "start_time": "2019-04-25T22:36:16.007328Z"
    }
   },
   "outputs": [
    {
     "name": "stdout",
     "output_type": "stream",
     "text": [
      "(1814574, 29)\n",
      "(1814574, 30)\n"
     ]
    }
   ],
   "source": [
    "group = matrix.groupby(['date_block_num', 'item_id', 'city'], as_index=False)['item_cnt_month'].mean()\n",
    "group.columns = ['date_block_num', 'item_id', 'city', 'mean_item_city_sales']\n",
    "matrix = pd.merge(matrix, group, left_on = ['date_block_num', 'item_id', 'city'], right_on=['date_block_num', 'item_id', 'city'], how='left')\n",
    "print (matrix.shape)\n",
    "\n",
    "matrix = lag_feature(matrix, [1], 'mean_item_city_sales')\n",
    "print (matrix.shape)"
   ]
  },
  {
   "cell_type": "code",
   "execution_count": 27,
   "metadata": {
    "ExecuteTime": {
     "end_time": "2019-04-25T22:36:23.681404Z",
     "start_time": "2019-04-25T22:36:19.993254Z"
    }
   },
   "outputs": [
    {
     "name": "stdout",
     "output_type": "stream",
     "text": [
      "(1814574, 31)\n",
      "(1814574, 32)\n"
     ]
    }
   ],
   "source": [
    "group = matrix.groupby(['date_block_num', 'item_id', 'shop_type'], as_index=False)['item_cnt_month'].mean()\n",
    "group.columns = ['date_block_num', 'item_id', 'shop_type', 'mean_item_shop_type_sales']\n",
    "matrix = pd.merge(matrix, group, left_on = ['date_block_num', 'item_id', 'shop_type'], right_on=['date_block_num', 'item_id', 'shop_type'], how='left')\n",
    "print (matrix.shape)\n",
    "\n",
    "matrix = lag_feature(matrix, [1], 'mean_item_shop_type_sales')\n",
    "print (matrix.shape)"
   ]
  },
  {
   "cell_type": "code",
   "execution_count": 28,
   "metadata": {
    "ExecuteTime": {
     "end_time": "2019-04-25T22:36:28.149402Z",
     "start_time": "2019-04-25T22:36:23.682429Z"
    }
   },
   "outputs": [
    {
     "name": "stdout",
     "output_type": "stream",
     "text": [
      "(1814574, 33)\n",
      "(1814574, 34)\n"
     ]
    }
   ],
   "source": [
    "group = matrix.groupby(['date_block_num', 'item_id', 'shop_lname'], as_index=False)['item_cnt_month'].mean()\n",
    "group.columns = ['date_block_num', 'item_id', 'shop_lname', 'mean_item_shop_lname_sales']\n",
    "matrix = pd.merge(matrix, group, left_on = ['date_block_num', 'item_id', 'shop_lname'], right_on=['date_block_num', 'item_id', 'shop_lname'], how='left')\n",
    "print (matrix.shape)\n",
    "\n",
    "matrix = lag_feature(matrix, [1], 'mean_item_shop_lname_sales')\n",
    "print (matrix.shape)"
   ]
  },
  {
   "cell_type": "code",
   "execution_count": 29,
   "metadata": {
    "ExecuteTime": {
     "end_time": "2019-04-25T22:36:31.504400Z",
     "start_time": "2019-04-25T22:36:28.150399Z"
    }
   },
   "outputs": [
    {
     "name": "stdout",
     "output_type": "stream",
     "text": [
      "(1814574, 35)\n",
      "(1814574, 36)\n"
     ]
    }
   ],
   "source": [
    "group = matrix.groupby(['date_block_num', 'shop_id', 'city'], as_index=False)['item_cnt_month'].mean()\n",
    "group.columns = ['date_block_num', 'shop_id', 'city', 'mean_shop_city_sales']\n",
    "matrix = pd.merge(matrix, group, left_on = ['date_block_num', 'shop_id', 'city'], right_on=['date_block_num', 'shop_id', 'city'], how='left')\n",
    "print (matrix.shape)\n",
    "\n",
    "matrix = lag_feature(matrix, [1], 'mean_shop_city_sales')\n",
    "print (matrix.shape)"
   ]
  },
  {
   "cell_type": "code",
   "execution_count": 30,
   "metadata": {
    "ExecuteTime": {
     "end_time": "2019-04-25T22:36:34.934426Z",
     "start_time": "2019-04-25T22:36:31.505399Z"
    }
   },
   "outputs": [
    {
     "name": "stdout",
     "output_type": "stream",
     "text": [
      "(1814574, 37)\n",
      "(1814574, 38)\n"
     ]
    }
   ],
   "source": [
    "group = matrix.groupby(['date_block_num', 'shop_type'], as_index=False)['item_cnt_month'].mean()\n",
    "group.columns = ['date_block_num', 'shop_type', 'mean_shop_type_sales']\n",
    "matrix = pd.merge(matrix, group, left_on = ['date_block_num', 'shop_type'], right_on=['date_block_num', 'shop_type'], how='left')\n",
    "print (matrix.shape)\n",
    "\n",
    "matrix = lag_feature(matrix, [1], 'mean_shop_type_sales')\n",
    "print (matrix.shape)"
   ]
  },
  {
   "cell_type": "code",
   "execution_count": 31,
   "metadata": {
    "ExecuteTime": {
     "end_time": "2019-04-25T22:36:38.506402Z",
     "start_time": "2019-04-25T22:36:34.935401Z"
    }
   },
   "outputs": [
    {
     "name": "stdout",
     "output_type": "stream",
     "text": [
      "(1814574, 39)\n",
      "(1814574, 40)\n"
     ]
    }
   ],
   "source": [
    "group = matrix.groupby(['date_block_num', 'shop_lname'], as_index=False)['item_cnt_month'].mean()\n",
    "group.columns = ['date_block_num', 'shop_lname', 'mean_shop_lname_sales']\n",
    "matrix = pd.merge(matrix, group, left_on = ['date_block_num', 'shop_lname'], right_on=['date_block_num', 'shop_lname'], how='left')\n",
    "print (matrix.shape)\n",
    "\n",
    "matrix = lag_feature(matrix, [1], 'mean_shop_lname_sales')\n",
    "print (matrix.shape)"
   ]
  },
  {
   "cell_type": "code",
   "execution_count": 32,
   "metadata": {
    "ExecuteTime": {
     "end_time": "2019-04-25T22:36:39.130433Z",
     "start_time": "2019-04-25T22:36:38.507400Z"
    }
   },
   "outputs": [],
   "source": [
    "matrix.drop(['shop_name', 'item_name', 'item_category_name'], axis=1, inplace=True)"
   ]
  },
  {
   "cell_type": "code",
   "execution_count": 33,
   "metadata": {
    "ExecuteTime": {
     "end_time": "2019-04-25T22:36:39.133404Z",
     "start_time": "2019-04-25T22:36:39.131403Z"
    }
   },
   "outputs": [],
   "source": [
    "#matrix = matrix[matrix.date_block_num > 11]"
   ]
  },
  {
   "cell_type": "code",
   "execution_count": 34,
   "metadata": {
    "ExecuteTime": {
     "end_time": "2019-04-25T22:36:40.025398Z",
     "start_time": "2019-04-25T22:36:39.134423Z"
    }
   },
   "outputs": [],
   "source": [
    "def fill_na(df):\n",
    "    for col in df.columns:\n",
    "        if ('_lag_' in col) & (df[col].isnull().any()):\n",
    "            if ('item_cnt' in col):\n",
    "                df[col].fillna(0, inplace=True)\n",
    "        else:\n",
    "            df[col].fillna(df[col].mean(), inplace=True)\n",
    "    return df\n",
    "\n",
    "matrix = fill_na(matrix)"
   ]
  },
  {
   "cell_type": "code",
   "execution_count": 35,
   "metadata": {
    "ExecuteTime": {
     "end_time": "2019-04-25T22:36:40.685432Z",
     "start_time": "2019-04-25T22:36:40.026399Z"
    }
   },
   "outputs": [],
   "source": [
    "X_train = matrix[ (matrix.date_block_num < 33)].drop(['item_cnt_month'], axis=1)\n",
    "Y_train = matrix[ (matrix.date_block_num < 33)]['item_cnt_month']\n",
    "\n",
    "X_valid = matrix[(matrix.date_block_num == 33) ].drop(['item_cnt_month'], axis=1)\n",
    "Y_valid = matrix[(matrix.date_block_num == 33) ]['item_cnt_month']\n",
    "\n",
    "X_test = matrix[matrix.date_block_num == 34].drop(['item_cnt_month'], axis=1)"
   ]
  },
  {
   "cell_type": "code",
   "execution_count": 36,
   "metadata": {
    "ExecuteTime": {
     "end_time": "2019-04-25T22:40:19.154355Z",
     "start_time": "2019-04-25T22:36:40.687400Z"
    },
    "scrolled": false
   },
   "outputs": [
    {
     "name": "stdout",
     "output_type": "stream",
     "text": [
      "[0]\tvalidation_0-rmse:7.72697\tvalidation_1-rmse:6.62181\n",
      "Multiple eval metrics have been passed: 'validation_1-rmse' will be used for early stopping.\n",
      "\n",
      "Will train until validation_1-rmse hasn't improved in 5 rounds.\n",
      "[1]\tvalidation_0-rmse:7.04837\tvalidation_1-rmse:6.03655\n",
      "[2]\tvalidation_0-rmse:6.43308\tvalidation_1-rmse:5.51292\n",
      "[3]\tvalidation_0-rmse:5.86544\tvalidation_1-rmse:5.04221\n",
      "[4]\tvalidation_0-rmse:5.36563\tvalidation_1-rmse:4.60448\n",
      "[5]\tvalidation_0-rmse:4.92918\tvalidation_1-rmse:4.14023\n",
      "[6]\tvalidation_0-rmse:4.51473\tvalidation_1-rmse:3.80988\n",
      "[7]\tvalidation_0-rmse:4.14022\tvalidation_1-rmse:3.43696\n",
      "[8]\tvalidation_0-rmse:3.82163\tvalidation_1-rmse:3.10333\n",
      "[9]\tvalidation_0-rmse:3.52034\tvalidation_1-rmse:2.82334\n",
      "[10]\tvalidation_0-rmse:3.23968\tvalidation_1-rmse:2.62026\n",
      "[11]\tvalidation_0-rmse:2.99794\tvalidation_1-rmse:2.43986\n",
      "[12]\tvalidation_0-rmse:2.80481\tvalidation_1-rmse:2.25472\n",
      "[13]\tvalidation_0-rmse:2.59551\tvalidation_1-rmse:2.0889\n",
      "[14]\tvalidation_0-rmse:2.40776\tvalidation_1-rmse:1.9572\n",
      "[15]\tvalidation_0-rmse:2.2359\tvalidation_1-rmse:1.84675\n",
      "[16]\tvalidation_0-rmse:2.08128\tvalidation_1-rmse:1.72194\n",
      "[17]\tvalidation_0-rmse:1.94145\tvalidation_1-rmse:1.62981\n",
      "[18]\tvalidation_0-rmse:1.82109\tvalidation_1-rmse:1.54528\n",
      "[19]\tvalidation_0-rmse:1.70967\tvalidation_1-rmse:1.46542\n",
      "[20]\tvalidation_0-rmse:1.60843\tvalidation_1-rmse:1.40705\n",
      "[21]\tvalidation_0-rmse:1.51808\tvalidation_1-rmse:1.32921\n",
      "[22]\tvalidation_0-rmse:1.44096\tvalidation_1-rmse:1.27422\n",
      "[23]\tvalidation_0-rmse:1.37108\tvalidation_1-rmse:1.2278\n",
      "[24]\tvalidation_0-rmse:1.3116\tvalidation_1-rmse:1.18764\n",
      "[25]\tvalidation_0-rmse:1.2552\tvalidation_1-rmse:1.14202\n",
      "[26]\tvalidation_0-rmse:1.2\tvalidation_1-rmse:1.11967\n",
      "[27]\tvalidation_0-rmse:1.15909\tvalidation_1-rmse:1.09666\n",
      "[28]\tvalidation_0-rmse:1.11909\tvalidation_1-rmse:1.07182\n",
      "[29]\tvalidation_0-rmse:1.07976\tvalidation_1-rmse:1.05685\n",
      "[30]\tvalidation_0-rmse:1.04756\tvalidation_1-rmse:1.04621\n",
      "[31]\tvalidation_0-rmse:1.0255\tvalidation_1-rmse:1.04303\n",
      "[32]\tvalidation_0-rmse:0.995793\tvalidation_1-rmse:1.03528\n",
      "[33]\tvalidation_0-rmse:0.967462\tvalidation_1-rmse:1.02221\n",
      "[34]\tvalidation_0-rmse:0.947369\tvalidation_1-rmse:1.00495\n",
      "[35]\tvalidation_0-rmse:0.929716\tvalidation_1-rmse:0.990237\n",
      "[36]\tvalidation_0-rmse:0.908809\tvalidation_1-rmse:0.982905\n",
      "[37]\tvalidation_0-rmse:0.89261\tvalidation_1-rmse:0.979992\n",
      "[38]\tvalidation_0-rmse:0.870981\tvalidation_1-rmse:0.974843\n",
      "[39]\tvalidation_0-rmse:0.857443\tvalidation_1-rmse:0.971905\n",
      "[40]\tvalidation_0-rmse:0.842106\tvalidation_1-rmse:0.967144\n",
      "[41]\tvalidation_0-rmse:0.830137\tvalidation_1-rmse:0.964919\n",
      "[42]\tvalidation_0-rmse:0.820783\tvalidation_1-rmse:0.961127\n",
      "[43]\tvalidation_0-rmse:0.809816\tvalidation_1-rmse:0.958296\n",
      "[44]\tvalidation_0-rmse:0.801964\tvalidation_1-rmse:0.957166\n",
      "[45]\tvalidation_0-rmse:0.793386\tvalidation_1-rmse:0.954068\n",
      "[46]\tvalidation_0-rmse:0.78791\tvalidation_1-rmse:0.953218\n",
      "[47]\tvalidation_0-rmse:0.780862\tvalidation_1-rmse:0.95052\n",
      "[48]\tvalidation_0-rmse:0.776026\tvalidation_1-rmse:0.947097\n",
      "[49]\tvalidation_0-rmse:0.769028\tvalidation_1-rmse:0.944644\n",
      "[50]\tvalidation_0-rmse:0.764709\tvalidation_1-rmse:0.944363\n",
      "[51]\tvalidation_0-rmse:0.759982\tvalidation_1-rmse:0.942605\n",
      "[52]\tvalidation_0-rmse:0.754321\tvalidation_1-rmse:0.941544\n",
      "[53]\tvalidation_0-rmse:0.750662\tvalidation_1-rmse:0.938854\n",
      "[54]\tvalidation_0-rmse:0.746667\tvalidation_1-rmse:0.93383\n",
      "[55]\tvalidation_0-rmse:0.74301\tvalidation_1-rmse:0.932527\n",
      "[56]\tvalidation_0-rmse:0.740541\tvalidation_1-rmse:0.932768\n",
      "[57]\tvalidation_0-rmse:0.735211\tvalidation_1-rmse:0.931245\n",
      "[58]\tvalidation_0-rmse:0.731423\tvalidation_1-rmse:0.92728\n",
      "[59]\tvalidation_0-rmse:0.727572\tvalidation_1-rmse:0.927467\n",
      "[60]\tvalidation_0-rmse:0.723958\tvalidation_1-rmse:0.927321\n",
      "[61]\tvalidation_0-rmse:0.721614\tvalidation_1-rmse:0.927829\n",
      "[62]\tvalidation_0-rmse:0.718943\tvalidation_1-rmse:0.926975\n",
      "[63]\tvalidation_0-rmse:0.717007\tvalidation_1-rmse:0.926477\n",
      "[64]\tvalidation_0-rmse:0.712053\tvalidation_1-rmse:0.922563\n",
      "[65]\tvalidation_0-rmse:0.709293\tvalidation_1-rmse:0.921007\n",
      "[66]\tvalidation_0-rmse:0.706946\tvalidation_1-rmse:0.922783\n",
      "[67]\tvalidation_0-rmse:0.703824\tvalidation_1-rmse:0.919273\n",
      "[68]\tvalidation_0-rmse:0.701721\tvalidation_1-rmse:0.917607\n",
      "[69]\tvalidation_0-rmse:0.699906\tvalidation_1-rmse:0.917502\n",
      "[70]\tvalidation_0-rmse:0.694108\tvalidation_1-rmse:0.916417\n",
      "[71]\tvalidation_0-rmse:0.690847\tvalidation_1-rmse:0.914585\n",
      "[72]\tvalidation_0-rmse:0.689665\tvalidation_1-rmse:0.914206\n",
      "[73]\tvalidation_0-rmse:0.685215\tvalidation_1-rmse:0.914276\n",
      "[74]\tvalidation_0-rmse:0.682729\tvalidation_1-rmse:0.915514\n",
      "[75]\tvalidation_0-rmse:0.680493\tvalidation_1-rmse:0.914692\n",
      "[76]\tvalidation_0-rmse:0.676405\tvalidation_1-rmse:0.914076\n",
      "[77]\tvalidation_0-rmse:0.673159\tvalidation_1-rmse:0.91316\n",
      "[78]\tvalidation_0-rmse:0.67004\tvalidation_1-rmse:0.911374\n",
      "[79]\tvalidation_0-rmse:0.668286\tvalidation_1-rmse:0.911846\n",
      "[80]\tvalidation_0-rmse:0.666112\tvalidation_1-rmse:0.912006\n",
      "[81]\tvalidation_0-rmse:0.66459\tvalidation_1-rmse:0.911839\n",
      "[82]\tvalidation_0-rmse:0.662143\tvalidation_1-rmse:0.911831\n",
      "[83]\tvalidation_0-rmse:0.660253\tvalidation_1-rmse:0.90991\n",
      "[84]\tvalidation_0-rmse:0.658959\tvalidation_1-rmse:0.909897\n",
      "[85]\tvalidation_0-rmse:0.657855\tvalidation_1-rmse:0.909862\n",
      "[86]\tvalidation_0-rmse:0.656932\tvalidation_1-rmse:0.910874\n",
      "[87]\tvalidation_0-rmse:0.652617\tvalidation_1-rmse:0.905012\n",
      "[88]\tvalidation_0-rmse:0.650695\tvalidation_1-rmse:0.906628\n",
      "[89]\tvalidation_0-rmse:0.648573\tvalidation_1-rmse:0.906697\n",
      "[90]\tvalidation_0-rmse:0.646845\tvalidation_1-rmse:0.905316\n",
      "[91]\tvalidation_0-rmse:0.643512\tvalidation_1-rmse:0.900181\n",
      "[92]\tvalidation_0-rmse:0.642426\tvalidation_1-rmse:0.899648\n",
      "[93]\tvalidation_0-rmse:0.641238\tvalidation_1-rmse:0.900052\n",
      "[94]\tvalidation_0-rmse:0.638536\tvalidation_1-rmse:0.89646\n",
      "[95]\tvalidation_0-rmse:0.636639\tvalidation_1-rmse:0.89645\n",
      "[96]\tvalidation_0-rmse:0.635908\tvalidation_1-rmse:0.896451\n",
      "[97]\tvalidation_0-rmse:0.632779\tvalidation_1-rmse:0.890128\n",
      "[98]\tvalidation_0-rmse:0.629682\tvalidation_1-rmse:0.88699\n",
      "[99]\tvalidation_0-rmse:0.627682\tvalidation_1-rmse:0.885781\n",
      "[100]\tvalidation_0-rmse:0.624276\tvalidation_1-rmse:0.878933\n",
      "[101]\tvalidation_0-rmse:0.622652\tvalidation_1-rmse:0.878399\n",
      "[102]\tvalidation_0-rmse:0.621745\tvalidation_1-rmse:0.878964\n",
      "[103]\tvalidation_0-rmse:0.620726\tvalidation_1-rmse:0.879157\n",
      "[104]\tvalidation_0-rmse:0.619889\tvalidation_1-rmse:0.878243\n",
      "[105]\tvalidation_0-rmse:0.618768\tvalidation_1-rmse:0.878434\n",
      "[106]\tvalidation_0-rmse:0.617357\tvalidation_1-rmse:0.87853\n",
      "[107]\tvalidation_0-rmse:0.616453\tvalidation_1-rmse:0.878532\n",
      "[108]\tvalidation_0-rmse:0.615157\tvalidation_1-rmse:0.87733\n",
      "[109]\tvalidation_0-rmse:0.612577\tvalidation_1-rmse:0.876475\n",
      "[110]\tvalidation_0-rmse:0.611692\tvalidation_1-rmse:0.876333\n",
      "[111]\tvalidation_0-rmse:0.610346\tvalidation_1-rmse:0.876237\n",
      "[112]\tvalidation_0-rmse:0.609725\tvalidation_1-rmse:0.875922\n",
      "[113]\tvalidation_0-rmse:0.608907\tvalidation_1-rmse:0.876041\n",
      "[114]\tvalidation_0-rmse:0.607669\tvalidation_1-rmse:0.875916\n",
      "[115]\tvalidation_0-rmse:0.604725\tvalidation_1-rmse:0.872091\n",
      "[116]\tvalidation_0-rmse:0.601539\tvalidation_1-rmse:0.861607\n",
      "[117]\tvalidation_0-rmse:0.599592\tvalidation_1-rmse:0.860662\n",
      "[118]\tvalidation_0-rmse:0.598555\tvalidation_1-rmse:0.860091\n",
      "[119]\tvalidation_0-rmse:0.595991\tvalidation_1-rmse:0.859373\n",
      "[120]\tvalidation_0-rmse:0.595218\tvalidation_1-rmse:0.860271\n",
      "[121]\tvalidation_0-rmse:0.594424\tvalidation_1-rmse:0.860477\n",
      "[122]\tvalidation_0-rmse:0.592835\tvalidation_1-rmse:0.860108\n",
      "[123]\tvalidation_0-rmse:0.591694\tvalidation_1-rmse:0.858721\n",
      "[124]\tvalidation_0-rmse:0.590339\tvalidation_1-rmse:0.854339\n",
      "[125]\tvalidation_0-rmse:0.589277\tvalidation_1-rmse:0.852798\n",
      "[126]\tvalidation_0-rmse:0.587314\tvalidation_1-rmse:0.852355\n",
      "[127]\tvalidation_0-rmse:0.586197\tvalidation_1-rmse:0.853077\n",
      "[128]\tvalidation_0-rmse:0.585061\tvalidation_1-rmse:0.853327\n",
      "[129]\tvalidation_0-rmse:0.583823\tvalidation_1-rmse:0.854144\n",
      "[130]\tvalidation_0-rmse:0.582102\tvalidation_1-rmse:0.852839\n",
      "[131]\tvalidation_0-rmse:0.580731\tvalidation_1-rmse:0.853301\n",
      "Stopping. Best iteration:\n",
      "[126]\tvalidation_0-rmse:0.587314\tvalidation_1-rmse:0.852355\n",
      "\n"
     ]
    },
    {
     "data": {
      "text/plain": [
       "XGBRegressor(base_score=0.5, booster='gbtree', colsample_bylevel=1,\n",
       "       colsample_bytree=0.8, eta=0.3, gamma=0, learning_rate=0.1,\n",
       "       max_delta_step=0, max_depth=4, min_child_weight=0.5, missing=None,\n",
       "       n_estimators=1000, n_jobs=1, nthread=None, objective='reg:linear',\n",
       "       random_state=0, reg_alpha=0, reg_lambda=2, scale_pos_weight=1,\n",
       "       seed=42, silent=True, subsample=0.6)"
      ]
     },
     "execution_count": 36,
     "metadata": {},
     "output_type": "execute_result"
    }
   ],
   "source": [
    "model = XGBRegressor(\n",
    "    max_depth=4,\n",
    "    n_estimators=1000,\n",
    "    min_child_weight=0.5, \n",
    "    colsample_bytree=0.8, \n",
    "    subsample=0.6,\n",
    "    eta=0.3,\n",
    "    reg_lambda=2,\n",
    "    seed=42)\n",
    "\n",
    "model.fit(\n",
    "    X_train, \n",
    "    Y_train, \n",
    "    eval_metric=\"rmse\", \n",
    "    eval_set=[(X_train, Y_train), (X_valid, Y_valid)], \n",
    "    verbose=True, \n",
    "    early_stopping_rounds = 5)\n"
   ]
  },
  {
   "cell_type": "code",
   "execution_count": 37,
   "metadata": {
    "ExecuteTime": {
     "end_time": "2019-04-25T22:44:30.900990Z",
     "start_time": "2019-04-25T22:44:30.895958Z"
    }
   },
   "outputs": [],
   "source": [
    "def plot_features(booster, figsize):    \n",
    "    fig, ax = plt.subplots(1,1,figsize=figsize)\n",
    "    return plot_importance(booster=booster, ax=ax)"
   ]
  },
  {
   "cell_type": "code",
   "execution_count": 38,
   "metadata": {
    "ExecuteTime": {
     "end_time": "2019-04-25T22:44:32.262648Z",
     "start_time": "2019-04-25T22:44:31.774619Z"
    }
   },
   "outputs": [
    {
     "data": {
      "text/plain": [
       "<matplotlib.axes._subplots.AxesSubplot at 0x1fa36d54eb8>"
      ]
     },
     "execution_count": 38,
     "metadata": {},
     "output_type": "execute_result"
    },
    {
     "data": {
      "image/png": "[encoded data removed]",
      "text/plain": [
       "<Figure size 720x1008 with 1 Axes>"
      ]
     },
     "metadata": {
      "needs_background": "light"
     },
     "output_type": "display_data"
    }
   ],
   "source": [
    "plot_features(model, (10,14))\n"
   ]
  },
  {
   "cell_type": "code",
   "execution_count": 39,
   "metadata": {
    "ExecuteTime": {
     "end_time": "2019-04-25T22:44:42.491009Z",
     "start_time": "2019-04-25T22:44:41.632032Z"
    }
   },
   "outputs": [],
   "source": [
    "Y_pred = model.predict(X_valid).clip(0,20)\n",
    "Y_test = model.predict(X_test).clip(0,20)\n",
    "\n",
    "submission = pd.DataFrame({\n",
    "    \"ID\": test_df.index, \n",
    "    \"item_cnt_month\": Y_test\n",
    "})\n",
    "submission.to_csv('xgb_submission.csv', index=False)"
   ]
  },
  {
   "cell_type": "code",
   "execution_count": null,
   "metadata": {
    "ExecuteTime": {
     "end_time": "2019-04-22T22:23:30.096440Z",
     "start_time": "2019-04-22T22:23:30.057319Z"
    }
   },
   "outputs": [],
   "source": [
    "cat_cols = ['date_block_num', \n",
    "            'item_id',\n",
    "            'shop_id', \n",
    "            'city', \n",
    "            'item_category_id',\n",
    "            'item_cat_level1', \n",
    "            'item_cat_level2', \n",
    "            'month']\n",
    "\n",
    "cat_mat = matrix[cat_cols]"
   ]
  },
  {
   "cell_type": "code",
   "execution_count": null,
   "metadata": {
    "ExecuteTime": {
     "end_time": "2019-04-22T22:23:35.135195Z",
     "start_time": "2019-04-22T22:23:30.378163Z"
    }
   },
   "outputs": [],
   "source": [
    "for col in cat_cols:\n",
    "    cat_mat[col] = '{0}_'.format(col) + cat_mat[col].astype(str)\n"
   ]
  },
  {
   "cell_type": "code",
   "execution_count": null,
   "metadata": {
    "ExecuteTime": {
     "end_time": "2019-04-22T22:23:35.140165Z",
     "start_time": "2019-04-22T22:23:35.136192Z"
    }
   },
   "outputs": [],
   "source": [
    "def gen_cat2vec_sentences(data):\n",
    "    X_w2v = data.copy()\n",
    "    names = list(X_w2v.columns.values)\n",
    "    for c in names:\n",
    "        X_w2v[c] = X_w2v[c].fillna('unknow').astype('category')\n",
    "        X_w2v[c].cat.categories = [\"%s %s\" % (c,g) for g in X_w2v[c].cat.categories]\n",
    "    X_w2v = X_w2v.values.tolist()\n",
    "    return X_w2v"
   ]
  },
  {
   "cell_type": "code",
   "execution_count": null,
   "metadata": {
    "ExecuteTime": {
     "end_time": "2019-04-22T22:23:35.151164Z",
     "start_time": "2019-04-22T22:23:35.142163Z"
    }
   },
   "outputs": [],
   "source": [
    "n_cat2vec_feature  = 20 # define the cat2vecs dimentions\n",
    "n_cat2vec_window   = len(cat_cols) * 2 # define the w2v window size"
   ]
  },
  {
   "cell_type": "code",
   "execution_count": null,
   "metadata": {
    "ExecuteTime": {
     "end_time": "2019-04-22T22:24:01.859193Z",
     "start_time": "2019-04-22T22:23:35.153165Z"
    }
   },
   "outputs": [],
   "source": [
    "from random import shuffle\n",
    "\n",
    "def fit_cat2vec_model():\n",
    "    X_w2v = gen_cat2vec_sentences(cat_mat)\n",
    "    for i in X_w2v:\n",
    "        shuffle(i)\n",
    "    model = Word2Vec(X_w2v, size=n_cat2vec_feature, window=n_cat2vec_window)\n",
    "    return model\n",
    "\n",
    "print('Fit cat2vec model')\n",
    "c2v_model = fit_cat2vec_model()"
   ]
  },
  {
   "cell_type": "code",
   "execution_count": null,
   "metadata": {
    "ExecuteTime": {
     "end_time": "2019-04-22T22:24:01.864202Z",
     "start_time": "2019-04-22T22:24:01.860192Z"
    }
   },
   "outputs": [],
   "source": [
    "def apply_w2v(sentences, model, num_features):\n",
    "    def _average_word_vectors(words, model, vocabulary, num_features):\n",
    "        feature_vector = np.zeros((num_features,), dtype=\"float64\")\n",
    "        n_words = 0.\n",
    "        for word in words:\n",
    "            if word in vocabulary: \n",
    "                n_words = n_words + 1.\n",
    "                feature_vector = np.add(feature_vector, model[word])\n",
    "\n",
    "        if n_words:\n",
    "            feature_vector = np.divide(feature_vector, n_words)\n",
    "        return feature_vector\n",
    "    \n",
    "    vocab = set(model.wv.index2word)\n",
    "    feats = [_average_word_vectors(s, model, vocab, num_features) for s in sentences]\n",
    "    return np.array(feats)"
   ]
  },
  {
   "cell_type": "code",
   "execution_count": null,
   "metadata": {
    "ExecuteTime": {
     "end_time": "2019-04-22T22:25:10.355303Z",
     "start_time": "2019-04-22T22:24:01.865164Z"
    }
   },
   "outputs": [],
   "source": [
    "c2v_matrix = apply_w2v(gen_cat2vec_sentences(cat_mat), c2v_model, n_cat2vec_feature)"
   ]
  },
  {
   "cell_type": "code",
   "execution_count": null,
   "metadata": {
    "ExecuteTime": {
     "end_time": "2019-04-22T22:25:10.361302Z",
     "start_time": "2019-04-22T22:25:10.357274Z"
    }
   },
   "outputs": [],
   "source": [
    "c2v_matrix.shape"
   ]
  },
  {
   "cell_type": "code",
   "execution_count": null,
   "metadata": {
    "ExecuteTime": {
     "end_time": "2019-04-22T22:25:10.372291Z",
     "start_time": "2019-04-22T22:25:10.363274Z"
    }
   },
   "outputs": [],
   "source": [
    "matrix.shape"
   ]
  },
  {
   "cell_type": "code",
   "execution_count": null,
   "metadata": {
    "ExecuteTime": {
     "end_time": "2019-04-22T22:25:10.960297Z",
     "start_time": "2019-04-22T22:25:10.373273Z"
    }
   },
   "outputs": [],
   "source": [
    "matrix2 = pd.concat([matrix, pd.DataFrame(c2v_matrix, columns = [f'c2v_{col}' for col in range(c2v_matrix.shape[1])])], axis=1)"
   ]
  },
  {
   "cell_type": "code",
   "execution_count": null,
   "metadata": {
    "ExecuteTime": {
     "end_time": "2019-04-22T22:25:13.124313Z",
     "start_time": "2019-04-22T22:25:10.961303Z"
    }
   },
   "outputs": [],
   "source": [
    "X_train = matrix2[ (matrix2.date_block_num < 33)].drop(['item_cnt_month'], axis=1)\n",
    "Y_train = matrix2[ (matrix2.date_block_num < 33)]['item_cnt_month']\n",
    "X_valid = matrix2[matrix2.date_block_num == 33].drop(['item_cnt_month'], axis=1)\n",
    "Y_valid = matrix2[matrix2.date_block_num == 33]['item_cnt_month']\n",
    "X_test = matrix2[matrix2.date_block_num == 34].drop(['item_cnt_month'], axis=1)"
   ]
  },
  {
   "cell_type": "code",
   "execution_count": null,
   "metadata": {
    "ExecuteTime": {
     "end_time": "2019-04-22T22:28:59.951482Z",
     "start_time": "2019-04-22T22:25:13.125343Z"
    }
   },
   "outputs": [],
   "source": [
    "model = XGBRegressor(\n",
    "    max_depth=5,\n",
    "    n_estimators=1000,\n",
    "    min_child_weight=50, \n",
    "    colsample_bytree=0.8, \n",
    "    subsample=0.8, \n",
    "    eta=0.3,    \n",
    "    seed=42)\n",
    "\n",
    "model.fit(\n",
    "    X_train, \n",
    "    Y_train, \n",
    "    eval_metric=\"rmse\", \n",
    "    eval_set=[(X_train, Y_train), (X_valid, Y_valid)], \n",
    "    verbose=True, \n",
    "    early_stopping_rounds = 10)\n"
   ]
  },
  {
   "cell_type": "code",
   "execution_count": null,
   "metadata": {
    "ExecuteTime": {
     "end_time": "2019-04-22T22:29:00.886447Z",
     "start_time": "2019-04-22T22:28:59.953447Z"
    }
   },
   "outputs": [],
   "source": [
    "plot_features(model, (10,14))\n"
   ]
  },
  {
   "cell_type": "code",
   "execution_count": 40,
   "metadata": {
    "ExecuteTime": {
     "end_time": "2019-04-25T22:45:44.046154Z",
     "start_time": "2019-04-25T22:45:44.031155Z"
    }
   },
   "outputs": [
    {
     "data": {
      "text/html": [
       "<div>\n",
       "<style scoped>\n",
       "    .dataframe tbody tr th:only-of-type {\n",
       "        vertical-align: middle;\n",
       "    }\n",
       "\n",
       "    .dataframe tbody tr th {\n",
       "        vertical-align: top;\n",
       "    }\n",
       "\n",
       "    .dataframe thead th {\n",
       "        text-align: right;\n",
       "    }\n",
       "</style>\n",
       "<table border=\"1\" class=\"dataframe\">\n",
       "  <thead>\n",
       "    <tr style=\"text-align: right;\">\n",
       "      <th></th>\n",
       "      <th>ID</th>\n",
       "      <th>shop_id</th>\n",
       "      <th>item_id</th>\n",
       "      <th>item_cnt_month</th>\n",
       "      <th>date_block_num</th>\n",
       "    </tr>\n",
       "  </thead>\n",
       "  <tbody>\n",
       "    <tr>\n",
       "      <th>0</th>\n",
       "      <td>0</td>\n",
       "      <td>5</td>\n",
       "      <td>5037</td>\n",
       "      <td>0</td>\n",
       "      <td>34</td>\n",
       "    </tr>\n",
       "    <tr>\n",
       "      <th>1</th>\n",
       "      <td>1</td>\n",
       "      <td>5</td>\n",
       "      <td>5320</td>\n",
       "      <td>0</td>\n",
       "      <td>34</td>\n",
       "    </tr>\n",
       "    <tr>\n",
       "      <th>2</th>\n",
       "      <td>2</td>\n",
       "      <td>5</td>\n",
       "      <td>5233</td>\n",
       "      <td>0</td>\n",
       "      <td>34</td>\n",
       "    </tr>\n",
       "    <tr>\n",
       "      <th>3</th>\n",
       "      <td>3</td>\n",
       "      <td>5</td>\n",
       "      <td>5232</td>\n",
       "      <td>0</td>\n",
       "      <td>34</td>\n",
       "    </tr>\n",
       "    <tr>\n",
       "      <th>4</th>\n",
       "      <td>4</td>\n",
       "      <td>5</td>\n",
       "      <td>5268</td>\n",
       "      <td>0</td>\n",
       "      <td>34</td>\n",
       "    </tr>\n",
       "    <tr>\n",
       "      <th>5</th>\n",
       "      <td>5</td>\n",
       "      <td>5</td>\n",
       "      <td>5039</td>\n",
       "      <td>0</td>\n",
       "      <td>34</td>\n",
       "    </tr>\n",
       "    <tr>\n",
       "      <th>6</th>\n",
       "      <td>6</td>\n",
       "      <td>5</td>\n",
       "      <td>5041</td>\n",
       "      <td>0</td>\n",
       "      <td>34</td>\n",
       "    </tr>\n",
       "    <tr>\n",
       "      <th>7</th>\n",
       "      <td>7</td>\n",
       "      <td>5</td>\n",
       "      <td>5046</td>\n",
       "      <td>0</td>\n",
       "      <td>34</td>\n",
       "    </tr>\n",
       "    <tr>\n",
       "      <th>8</th>\n",
       "      <td>8</td>\n",
       "      <td>5</td>\n",
       "      <td>5319</td>\n",
       "      <td>0</td>\n",
       "      <td>34</td>\n",
       "    </tr>\n",
       "    <tr>\n",
       "      <th>9</th>\n",
       "      <td>9</td>\n",
       "      <td>5</td>\n",
       "      <td>5003</td>\n",
       "      <td>0</td>\n",
       "      <td>34</td>\n",
       "    </tr>\n",
       "    <tr>\n",
       "      <th>10</th>\n",
       "      <td>10</td>\n",
       "      <td>5</td>\n",
       "      <td>4806</td>\n",
       "      <td>0</td>\n",
       "      <td>34</td>\n",
       "    </tr>\n",
       "    <tr>\n",
       "      <th>11</th>\n",
       "      <td>11</td>\n",
       "      <td>5</td>\n",
       "      <td>4843</td>\n",
       "      <td>0</td>\n",
       "      <td>34</td>\n",
       "    </tr>\n",
       "    <tr>\n",
       "      <th>12</th>\n",
       "      <td>12</td>\n",
       "      <td>5</td>\n",
       "      <td>4607</td>\n",
       "      <td>0</td>\n",
       "      <td>34</td>\n",
       "    </tr>\n",
       "    <tr>\n",
       "      <th>13</th>\n",
       "      <td>13</td>\n",
       "      <td>5</td>\n",
       "      <td>4869</td>\n",
       "      <td>0</td>\n",
       "      <td>34</td>\n",
       "    </tr>\n",
       "    <tr>\n",
       "      <th>14</th>\n",
       "      <td>14</td>\n",
       "      <td>5</td>\n",
       "      <td>4870</td>\n",
       "      <td>0</td>\n",
       "      <td>34</td>\n",
       "    </tr>\n",
       "    <tr>\n",
       "      <th>15</th>\n",
       "      <td>15</td>\n",
       "      <td>5</td>\n",
       "      <td>4872</td>\n",
       "      <td>0</td>\n",
       "      <td>34</td>\n",
       "    </tr>\n",
       "    <tr>\n",
       "      <th>16</th>\n",
       "      <td>16</td>\n",
       "      <td>5</td>\n",
       "      <td>4874</td>\n",
       "      <td>0</td>\n",
       "      <td>34</td>\n",
       "    </tr>\n",
       "    <tr>\n",
       "      <th>17</th>\n",
       "      <td>17</td>\n",
       "      <td>5</td>\n",
       "      <td>4678</td>\n",
       "      <td>0</td>\n",
       "      <td>34</td>\n",
       "    </tr>\n",
       "    <tr>\n",
       "      <th>18</th>\n",
       "      <td>18</td>\n",
       "      <td>5</td>\n",
       "      <td>4892</td>\n",
       "      <td>0</td>\n",
       "      <td>34</td>\n",
       "    </tr>\n",
       "    <tr>\n",
       "      <th>19</th>\n",
       "      <td>19</td>\n",
       "      <td>5</td>\n",
       "      <td>4964</td>\n",
       "      <td>0</td>\n",
       "      <td>34</td>\n",
       "    </tr>\n",
       "    <tr>\n",
       "      <th>20</th>\n",
       "      <td>20</td>\n",
       "      <td>5</td>\n",
       "      <td>4717</td>\n",
       "      <td>0</td>\n",
       "      <td>34</td>\n",
       "    </tr>\n",
       "    <tr>\n",
       "      <th>21</th>\n",
       "      <td>21</td>\n",
       "      <td>5</td>\n",
       "      <td>5002</td>\n",
       "      <td>0</td>\n",
       "      <td>34</td>\n",
       "    </tr>\n",
       "    <tr>\n",
       "      <th>22</th>\n",
       "      <td>22</td>\n",
       "      <td>5</td>\n",
       "      <td>5823</td>\n",
       "      <td>0</td>\n",
       "      <td>34</td>\n",
       "    </tr>\n",
       "    <tr>\n",
       "      <th>23</th>\n",
       "      <td>23</td>\n",
       "      <td>5</td>\n",
       "      <td>5814</td>\n",
       "      <td>0</td>\n",
       "      <td>34</td>\n",
       "    </tr>\n",
       "    <tr>\n",
       "      <th>24</th>\n",
       "      <td>24</td>\n",
       "      <td>5</td>\n",
       "      <td>5900</td>\n",
       "      <td>0</td>\n",
       "      <td>34</td>\n",
       "    </tr>\n",
       "    <tr>\n",
       "      <th>25</th>\n",
       "      <td>25</td>\n",
       "      <td>5</td>\n",
       "      <td>5907</td>\n",
       "      <td>0</td>\n",
       "      <td>34</td>\n",
       "    </tr>\n",
       "    <tr>\n",
       "      <th>26</th>\n",
       "      <td>26</td>\n",
       "      <td>5</td>\n",
       "      <td>5908</td>\n",
       "      <td>0</td>\n",
       "      <td>34</td>\n",
       "    </tr>\n",
       "    <tr>\n",
       "      <th>27</th>\n",
       "      <td>27</td>\n",
       "      <td>5</td>\n",
       "      <td>5643</td>\n",
       "      <td>0</td>\n",
       "      <td>34</td>\n",
       "    </tr>\n",
       "    <tr>\n",
       "      <th>28</th>\n",
       "      <td>28</td>\n",
       "      <td>5</td>\n",
       "      <td>5657</td>\n",
       "      <td>0</td>\n",
       "      <td>34</td>\n",
       "    </tr>\n",
       "    <tr>\n",
       "      <th>29</th>\n",
       "      <td>29</td>\n",
       "      <td>5</td>\n",
       "      <td>5675</td>\n",
       "      <td>0</td>\n",
       "      <td>34</td>\n",
       "    </tr>\n",
       "    <tr>\n",
       "      <th>...</th>\n",
       "      <td>...</td>\n",
       "      <td>...</td>\n",
       "      <td>...</td>\n",
       "      <td>...</td>\n",
       "      <td>...</td>\n",
       "    </tr>\n",
       "    <tr>\n",
       "      <th>214170</th>\n",
       "      <td>214170</td>\n",
       "      <td>45</td>\n",
       "      <td>14543</td>\n",
       "      <td>0</td>\n",
       "      <td>34</td>\n",
       "    </tr>\n",
       "    <tr>\n",
       "      <th>214171</th>\n",
       "      <td>214171</td>\n",
       "      <td>45</td>\n",
       "      <td>19253</td>\n",
       "      <td>0</td>\n",
       "      <td>34</td>\n",
       "    </tr>\n",
       "    <tr>\n",
       "      <th>214172</th>\n",
       "      <td>214172</td>\n",
       "      <td>45</td>\n",
       "      <td>17957</td>\n",
       "      <td>0</td>\n",
       "      <td>34</td>\n",
       "    </tr>\n",
       "    <tr>\n",
       "      <th>214173</th>\n",
       "      <td>214173</td>\n",
       "      <td>45</td>\n",
       "      <td>12470</td>\n",
       "      <td>0</td>\n",
       "      <td>34</td>\n",
       "    </tr>\n",
       "    <tr>\n",
       "      <th>214174</th>\n",
       "      <td>214174</td>\n",
       "      <td>45</td>\n",
       "      <td>7543</td>\n",
       "      <td>0</td>\n",
       "      <td>34</td>\n",
       "    </tr>\n",
       "    <tr>\n",
       "      <th>214175</th>\n",
       "      <td>214175</td>\n",
       "      <td>45</td>\n",
       "      <td>6661</td>\n",
       "      <td>0</td>\n",
       "      <td>34</td>\n",
       "    </tr>\n",
       "    <tr>\n",
       "      <th>214176</th>\n",
       "      <td>214176</td>\n",
       "      <td>45</td>\n",
       "      <td>11137</td>\n",
       "      <td>0</td>\n",
       "      <td>34</td>\n",
       "    </tr>\n",
       "    <tr>\n",
       "      <th>214177</th>\n",
       "      <td>214177</td>\n",
       "      <td>45</td>\n",
       "      <td>11489</td>\n",
       "      <td>0</td>\n",
       "      <td>34</td>\n",
       "    </tr>\n",
       "    <tr>\n",
       "      <th>214178</th>\n",
       "      <td>214178</td>\n",
       "      <td>45</td>\n",
       "      <td>9782</td>\n",
       "      <td>0</td>\n",
       "      <td>34</td>\n",
       "    </tr>\n",
       "    <tr>\n",
       "      <th>214179</th>\n",
       "      <td>214179</td>\n",
       "      <td>45</td>\n",
       "      <td>2972</td>\n",
       "      <td>0</td>\n",
       "      <td>34</td>\n",
       "    </tr>\n",
       "    <tr>\n",
       "      <th>214180</th>\n",
       "      <td>214180</td>\n",
       "      <td>45</td>\n",
       "      <td>19889</td>\n",
       "      <td>0</td>\n",
       "      <td>34</td>\n",
       "    </tr>\n",
       "    <tr>\n",
       "      <th>214181</th>\n",
       "      <td>214181</td>\n",
       "      <td>45</td>\n",
       "      <td>20650</td>\n",
       "      <td>0</td>\n",
       "      <td>34</td>\n",
       "    </tr>\n",
       "    <tr>\n",
       "      <th>214182</th>\n",
       "      <td>214182</td>\n",
       "      <td>45</td>\n",
       "      <td>5665</td>\n",
       "      <td>0</td>\n",
       "      <td>34</td>\n",
       "    </tr>\n",
       "    <tr>\n",
       "      <th>214183</th>\n",
       "      <td>214183</td>\n",
       "      <td>45</td>\n",
       "      <td>9978</td>\n",
       "      <td>0</td>\n",
       "      <td>34</td>\n",
       "    </tr>\n",
       "    <tr>\n",
       "      <th>214184</th>\n",
       "      <td>214184</td>\n",
       "      <td>45</td>\n",
       "      <td>10767</td>\n",
       "      <td>0</td>\n",
       "      <td>34</td>\n",
       "    </tr>\n",
       "    <tr>\n",
       "      <th>214185</th>\n",
       "      <td>214185</td>\n",
       "      <td>45</td>\n",
       "      <td>14443</td>\n",
       "      <td>0</td>\n",
       "      <td>34</td>\n",
       "    </tr>\n",
       "    <tr>\n",
       "      <th>214186</th>\n",
       "      <td>214186</td>\n",
       "      <td>45</td>\n",
       "      <td>14341</td>\n",
       "      <td>0</td>\n",
       "      <td>34</td>\n",
       "    </tr>\n",
       "    <tr>\n",
       "      <th>214187</th>\n",
       "      <td>214187</td>\n",
       "      <td>45</td>\n",
       "      <td>5401</td>\n",
       "      <td>0</td>\n",
       "      <td>34</td>\n",
       "    </tr>\n",
       "    <tr>\n",
       "      <th>214188</th>\n",
       "      <td>214188</td>\n",
       "      <td>45</td>\n",
       "      <td>9500</td>\n",
       "      <td>0</td>\n",
       "      <td>34</td>\n",
       "    </tr>\n",
       "    <tr>\n",
       "      <th>214189</th>\n",
       "      <td>214189</td>\n",
       "      <td>45</td>\n",
       "      <td>16007</td>\n",
       "      <td>0</td>\n",
       "      <td>34</td>\n",
       "    </tr>\n",
       "    <tr>\n",
       "      <th>214190</th>\n",
       "      <td>214190</td>\n",
       "      <td>45</td>\n",
       "      <td>3280</td>\n",
       "      <td>0</td>\n",
       "      <td>34</td>\n",
       "    </tr>\n",
       "    <tr>\n",
       "      <th>214191</th>\n",
       "      <td>214191</td>\n",
       "      <td>45</td>\n",
       "      <td>4393</td>\n",
       "      <td>0</td>\n",
       "      <td>34</td>\n",
       "    </tr>\n",
       "    <tr>\n",
       "      <th>214192</th>\n",
       "      <td>214192</td>\n",
       "      <td>45</td>\n",
       "      <td>4352</td>\n",
       "      <td>0</td>\n",
       "      <td>34</td>\n",
       "    </tr>\n",
       "    <tr>\n",
       "      <th>214193</th>\n",
       "      <td>214193</td>\n",
       "      <td>45</td>\n",
       "      <td>18049</td>\n",
       "      <td>0</td>\n",
       "      <td>34</td>\n",
       "    </tr>\n",
       "    <tr>\n",
       "      <th>214194</th>\n",
       "      <td>214194</td>\n",
       "      <td>45</td>\n",
       "      <td>18027</td>\n",
       "      <td>0</td>\n",
       "      <td>34</td>\n",
       "    </tr>\n",
       "    <tr>\n",
       "      <th>214195</th>\n",
       "      <td>214195</td>\n",
       "      <td>45</td>\n",
       "      <td>18454</td>\n",
       "      <td>0</td>\n",
       "      <td>34</td>\n",
       "    </tr>\n",
       "    <tr>\n",
       "      <th>214196</th>\n",
       "      <td>214196</td>\n",
       "      <td>45</td>\n",
       "      <td>16188</td>\n",
       "      <td>0</td>\n",
       "      <td>34</td>\n",
       "    </tr>\n",
       "    <tr>\n",
       "      <th>214197</th>\n",
       "      <td>214197</td>\n",
       "      <td>45</td>\n",
       "      <td>15757</td>\n",
       "      <td>0</td>\n",
       "      <td>34</td>\n",
       "    </tr>\n",
       "    <tr>\n",
       "      <th>214198</th>\n",
       "      <td>214198</td>\n",
       "      <td>45</td>\n",
       "      <td>19648</td>\n",
       "      <td>0</td>\n",
       "      <td>34</td>\n",
       "    </tr>\n",
       "    <tr>\n",
       "      <th>214199</th>\n",
       "      <td>214199</td>\n",
       "      <td>45</td>\n",
       "      <td>969</td>\n",
       "      <td>0</td>\n",
       "      <td>34</td>\n",
       "    </tr>\n",
       "  </tbody>\n",
       "</table>\n",
       "<p>214200 rows × 5 columns</p>\n",
       "</div>"
      ],
      "text/plain": [
       "            ID  shop_id  item_id  item_cnt_month  date_block_num\n",
       "0            0        5     5037               0              34\n",
       "1            1        5     5320               0              34\n",
       "2            2        5     5233               0              34\n",
       "3            3        5     5232               0              34\n",
       "4            4        5     5268               0              34\n",
       "5            5        5     5039               0              34\n",
       "6            6        5     5041               0              34\n",
       "7            7        5     5046               0              34\n",
       "8            8        5     5319               0              34\n",
       "9            9        5     5003               0              34\n",
       "10          10        5     4806               0              34\n",
       "11          11        5     4843               0              34\n",
       "12          12        5     4607               0              34\n",
       "13          13        5     4869               0              34\n",
       "14          14        5     4870               0              34\n",
       "15          15        5     4872               0              34\n",
       "16          16        5     4874               0              34\n",
       "17          17        5     4678               0              34\n",
       "18          18        5     4892               0              34\n",
       "19          19        5     4964               0              34\n",
       "20          20        5     4717               0              34\n",
       "21          21        5     5002               0              34\n",
       "22          22        5     5823               0              34\n",
       "23          23        5     5814               0              34\n",
       "24          24        5     5900               0              34\n",
       "25          25        5     5907               0              34\n",
       "26          26        5     5908               0              34\n",
       "27          27        5     5643               0              34\n",
       "28          28        5     5657               0              34\n",
       "29          29        5     5675               0              34\n",
       "...        ...      ...      ...             ...             ...\n",
       "214170  214170       45    14543               0              34\n",
       "214171  214171       45    19253               0              34\n",
       "214172  214172       45    17957               0              34\n",
       "214173  214173       45    12470               0              34\n",
       "214174  214174       45     7543               0              34\n",
       "214175  214175       45     6661               0              34\n",
       "214176  214176       45    11137               0              34\n",
       "214177  214177       45    11489               0              34\n",
       "214178  214178       45     9782               0              34\n",
       "214179  214179       45     2972               0              34\n",
       "214180  214180       45    19889               0              34\n",
       "214181  214181       45    20650               0              34\n",
       "214182  214182       45     5665               0              34\n",
       "214183  214183       45     9978               0              34\n",
       "214184  214184       45    10767               0              34\n",
       "214185  214185       45    14443               0              34\n",
       "214186  214186       45    14341               0              34\n",
       "214187  214187       45     5401               0              34\n",
       "214188  214188       45     9500               0              34\n",
       "214189  214189       45    16007               0              34\n",
       "214190  214190       45     3280               0              34\n",
       "214191  214191       45     4393               0              34\n",
       "214192  214192       45     4352               0              34\n",
       "214193  214193       45    18049               0              34\n",
       "214194  214194       45    18027               0              34\n",
       "214195  214195       45    18454               0              34\n",
       "214196  214196       45    16188               0              34\n",
       "214197  214197       45    15757               0              34\n",
       "214198  214198       45    19648               0              34\n",
       "214199  214199       45      969               0              34\n",
       "\n",
       "[214200 rows x 5 columns]"
      ]
     },
     "execution_count": 40,
     "metadata": {},
     "output_type": "execute_result"
    }
   ],
   "source": [
    "test_df"
   ]
  },
  {
   "cell_type": "code",
   "execution_count": 59,
   "metadata": {
    "ExecuteTime": {
     "end_time": "2019-04-25T22:52:44.861867Z",
     "start_time": "2019-04-25T22:52:44.855867Z"
    }
   },
   "outputs": [
    {
     "data": {
      "text/plain": [
       "1600374    1.822136\n",
       "1600375    1.822136\n",
       "1600376    1.822136\n",
       "1600377    1.822136\n",
       "1600378    1.822136\n",
       "1600379    1.822136\n",
       "1600380    1.822136\n",
       "1600381    1.822136\n",
       "1600382    1.822136\n",
       "1600383    1.822136\n",
       "1600384    1.822136\n",
       "1600385    1.822136\n",
       "1600386    1.822136\n",
       "1600387    1.822136\n",
       "1600388    1.822136\n",
       "1600389    1.822136\n",
       "1600390    1.822136\n",
       "1600391    1.822136\n",
       "1600392    1.822136\n",
       "1600393    1.822136\n",
       "1600394    1.822136\n",
       "1600395    1.822136\n",
       "1600396    1.822136\n",
       "1600397    1.822136\n",
       "1600398    1.822136\n",
       "1600399    1.822136\n",
       "1600400    1.822136\n",
       "1600401    1.822136\n",
       "1600402    1.822136\n",
       "1600403    1.822136\n",
       "             ...   \n",
       "1814544    1.822136\n",
       "1814545    1.822136\n",
       "1814546    1.822136\n",
       "1814547    1.822136\n",
       "1814548    1.822136\n",
       "1814549    1.822136\n",
       "1814550    1.822136\n",
       "1814551    1.822136\n",
       "1814552    1.822136\n",
       "1814553    1.822136\n",
       "1814554    1.822136\n",
       "1814555    1.822136\n",
       "1814556    1.822136\n",
       "1814557    1.822136\n",
       "1814558    1.822136\n",
       "1814559    1.822136\n",
       "1814560    1.822136\n",
       "1814561    1.822136\n",
       "1814562    1.822136\n",
       "1814563    1.822136\n",
       "1814564    1.822136\n",
       "1814565    1.822136\n",
       "1814566    1.822136\n",
       "1814567    1.822136\n",
       "1814568    1.822136\n",
       "1814569    1.822136\n",
       "1814570    1.822136\n",
       "1814571    1.822136\n",
       "1814572    1.822136\n",
       "1814573    1.822136\n",
       "Name: count_prices, Length: 214200, dtype: float64"
      ]
     },
     "execution_count": 59,
     "metadata": {},
     "output_type": "execute_result"
    }
   ],
   "source": [
    "X_test['count_prices']"
   ]
  },
  {
   "cell_type": "code",
   "execution_count": 54,
   "metadata": {
    "ExecuteTime": {
     "end_time": "2019-04-25T22:51:01.791965Z",
     "start_time": "2019-04-25T22:51:01.782926Z"
    }
   },
   "outputs": [
    {
     "data": {
      "text/plain": [
       "item_id  shop_id\n",
       "30       2          1\n",
       "         3          1\n",
       "         4          1\n",
       "         5          1\n",
       "         6          1\n",
       "         7          1\n",
       "         10         1\n",
       "         12         1\n",
       "         14         1\n",
       "         15         1\n",
       "         16         1\n",
       "         18         1\n",
       "         19         1\n",
       "         21         1\n",
       "         22         1\n",
       "         24         1\n",
       "         25         1\n",
       "         26         1\n",
       "         28         1\n",
       "         31         1\n",
       "         34         1\n",
       "         35         1\n",
       "         36         1\n",
       "         37         1\n",
       "         38         1\n",
       "         39         1\n",
       "         41         1\n",
       "         42         1\n",
       "         44         1\n",
       "         45         1\n",
       "                   ..\n",
       "22167    19         1\n",
       "         21         1\n",
       "         22         1\n",
       "         24         1\n",
       "         25         1\n",
       "         26         1\n",
       "         28         1\n",
       "         31         1\n",
       "         34         1\n",
       "         35         1\n",
       "         36         1\n",
       "         37         1\n",
       "         38         1\n",
       "         39         1\n",
       "         41         1\n",
       "         42         1\n",
       "         44         1\n",
       "         45         1\n",
       "         46         1\n",
       "         47         1\n",
       "         48         1\n",
       "         49         1\n",
       "         50         1\n",
       "         52         1\n",
       "         53         1\n",
       "         55         1\n",
       "         56         1\n",
       "         57         1\n",
       "         58         1\n",
       "         59         1\n",
       "Name: ID, Length: 214200, dtype: int64"
      ]
     },
     "execution_count": 54,
     "metadata": {},
     "output_type": "execute_result"
    }
   ],
   "source": []
  },
  {
   "cell_type": "code",
   "execution_count": null,
   "metadata": {},
   "outputs": [],
   "source": []
  }
 ],
 "metadata": {
  "kernelspec": {
   "display_name": "Python 3",
   "language": "python",
   "name": "python3"
  },
  "language_info": {
   "codemirror_mode": {
    "name": "ipython",
    "version": 3
   },
   "file_extension": ".py",
   "mimetype": "text/x-python",
   "name": "python",
   "nbconvert_exporter": "python",
   "pygments_lexer": "ipython3",
   "version": "3.6.7"
  }
 },
 "nbformat": 4,
 "nbformat_minor": 2
}
