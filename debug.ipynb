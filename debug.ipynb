{
 "cells": [
  {
   "cell_type": "code",
   "execution_count": 1,
   "metadata": {},
   "outputs": [
    {
     "data": {
      "text/plain": [
       "sys.version_info(major=3, minor=7, micro=3, releaselevel='final', serial=0)"
      ]
     },
     "execution_count": 1,
     "metadata": {},
     "output_type": "execute_result"
    }
   ],
   "source": [
    "import numpy as np\n",
    "import pandas as pd\n",
    "pd.set_option('display.max_rows', 500)\n",
    "pd.set_option('display.max_columns', 100)\n",
    "\n",
    "from itertools import product\n",
    "from sklearn.preprocessing import LabelEncoder\n",
    "\n",
    "import seaborn as sns\n",
    "import matplotlib.pyplot as plt\n",
    "%matplotlib inline\n",
    "\n",
    "from xgboost import XGBRegressor\n",
    "from xgboost import plot_importance\n",
    "\n",
    "def plot_features(booster, figsize):    \n",
    "    fig, ax = plt.subplots(1,1,figsize=figsize)\n",
    "    return plot_importance(booster=booster, ax=ax)\n",
    "\n",
    "import time\n",
    "import sys\n",
    "import gc\n",
    "import pickle\n",
    "sys.version_info"
   ]
  },
  {
   "cell_type": "code",
   "execution_count": 2,
   "metadata": {},
   "outputs": [],
   "source": [
    "items = pd.read_csv('items.csv')\n",
    "shops = pd.read_csv('shops.csv')\n",
    "cats = pd.read_csv('item_categories.csv')\n",
    "train = pd.read_csv('sales_train_v2.csv')\n",
    "# set index to ID to avoid droping it later\n",
    "test  = pd.read_csv('test.csv').set_index('ID')"
   ]
  },
  {
   "cell_type": "code",
   "execution_count": 3,
   "metadata": {},
   "outputs": [],
   "source": [
    "train = train[train.item_price<100000]\n",
    "train = train[train.item_cnt_day<1001]"
   ]
  },
  {
   "cell_type": "code",
   "execution_count": 4,
   "metadata": {},
   "outputs": [],
   "source": [
    "# Якутск Орджоникидзе, 56\n",
    "train.loc[train.shop_id == 0, 'shop_id'] = 57\n",
    "test.loc[test.shop_id == 0, 'shop_id'] = 57\n",
    "# Якутск ТЦ \"Центральный\"\n",
    "train.loc[train.shop_id == 1, 'shop_id'] = 58\n",
    "test.loc[test.shop_id == 1, 'shop_id'] = 58\n",
    "# Жуковский ул. Чкалова 39м²\n",
    "train.loc[train.shop_id == 10, 'shop_id'] = 11\n",
    "test.loc[test.shop_id == 10, 'shop_id'] = 11"
   ]
  },
  {
   "cell_type": "code",
   "execution_count": 5,
   "metadata": {},
   "outputs": [],
   "source": [
    "\n",
    "shops.loc[shops.shop_name == 'Сергиев Посад ТЦ \"7Я\"', 'shop_name'] = 'СергиевПосад ТЦ \"7Я\"'\n",
    "shops['city'] = shops['shop_name'].str.split(' ').map(lambda x: x[0])\n",
    "shops.loc[shops.city == '!Якутск', 'city'] = 'Якутск'\n",
    "shops['city_code'] = LabelEncoder().fit_transform(shops['city'])\n",
    "shops = shops[['shop_id','city_code']]\n",
    "\"\"\"\n",
    "shops['shop_city'] = shops['shop_name'].str.split(' ').apply(lambda x: x[0].strip())\n",
    "shops.loc[(shops['shop_city'] == u'!Якутск'), 'shop_city'] = u'Якутск'\n",
    "shops['shop_type']  = shops['shop_name'].str.split(' ').apply(lambda x: '_'.join([re.sub(r'[^\\w\\s]','',t) for t in x[1:2]]))\n",
    "shops['shop_lname'] = shops['shop_name'].str.split(' ').apply(lambda x: '_'.join([re.sub(r'[^\\w\\s]','',t) for t in x[2:]]))\n",
    "\n",
    "shops['shop_city'] = LabelEncoder().fit_transform(shops['shop_city'])\n",
    "shops['shop_type'] = LabelEncoder().fit_transform(shops['shop_type'])\n",
    "shops['shop_lname'] = LabelEncoder().fit_transform(shops['shop_lname'])\n",
    "\"\"\"\n",
    "cats['split'] = cats['item_category_name'].str.split('-')\n",
    "cats['type'] = cats['split'].map(lambda x: x[0].strip())\n",
    "cats['type_code'] = LabelEncoder().fit_transform(cats['type'])\n",
    "# if subtype is nan then type\n",
    "cats['subtype'] = cats['split'].map(lambda x: x[1].strip() if len(x) > 1 else x[0].strip())\n",
    "cats['subtype_code'] = LabelEncoder().fit_transform(cats['subtype'])\n",
    "cats = cats[['item_category_id','type_code', 'subtype_code']]\n",
    "\n",
    "items.drop(['item_name'], axis=1, inplace=True)"
   ]
  },
  {
   "cell_type": "code",
   "execution_count": 7,
   "metadata": {},
   "outputs": [
    {
     "data": {
      "text/plain": [
       "18.7158203125"
      ]
     },
     "execution_count": 7,
     "metadata": {},
     "output_type": "execute_result"
    }
   ],
   "source": [
    "ts = time.time()\n",
    "\"\"\"\n",
    "cols = ['date_block_num','shop_id','item_id']\n",
    "group = train.groupby(['date_block_num','shop_id','item_id']).agg({'item_cnt_day': ['sum']})\n",
    "group.columns = ['item_cnt_month']\n",
    "group.reset_index(inplace=True)\n",
    "\n",
    "matrix = group\n",
    "matrix['item_cnt_month'] = (matrix['item_cnt_month']\n",
    "                                .fillna(0)\n",
    "                                .clip(0,20) # NB clip target here\n",
    "                                .astype(np.float16))\n",
    "\"\"\"\n",
    "\n",
    "\n",
    "ts = time.time()\n",
    "matrix = []\n",
    "cols = ['date_block_num','shop_id','item_id']\n",
    "for i in range(34):\n",
    "    sales = train[train.date_block_num==i]\n",
    "    matrix.append(np.array(list(product([i], sales.shop_id.unique(), sales.item_id.unique())), dtype='int16'))\n",
    "    \n",
    "matrix = pd.DataFrame(np.vstack(matrix), columns=cols)\n",
    "matrix['date_block_num'] = matrix['date_block_num'].astype(np.int8)\n",
    "matrix['shop_id'] = matrix['shop_id'].astype(np.int8)\n",
    "matrix['item_id'] = matrix['item_id'].astype(np.int16)\n",
    "matrix.sort_values(cols,inplace=True)\n",
    "\n",
    "\n",
    "group = train.groupby(['date_block_num','shop_id','item_id']).agg({'item_cnt_day': ['sum']})\n",
    "group.columns = ['item_cnt_month']\n",
    "group.reset_index(inplace=True)\n",
    "\n",
    "matrix = pd.merge(matrix, group, on=cols, how='left')\n",
    "matrix['item_cnt_month'] = (matrix['item_cnt_month']\n",
    "                                .fillna(0)\n",
    "                                .clip(0,20) # NB clip target here\n",
    "                                .astype(np.float16))\n",
    "time.time() - ts"
   ]
  },
  {
   "cell_type": "code",
   "execution_count": 12,
   "metadata": {},
   "outputs": [
    {
     "data": {
      "text/plain": [
       "(11128004, 4)"
      ]
     },
     "execution_count": 12,
     "metadata": {},
     "output_type": "execute_result"
    }
   ],
   "source": [
    "matrix.shape"
   ]
  },
  {
   "cell_type": "code",
   "execution_count": 13,
   "metadata": {},
   "outputs": [],
   "source": [
    "test['date_block_num'] = 34\n",
    "test['date_block_num'] = test['date_block_num'].astype(np.int8)\n",
    "test['shop_id'] = test['shop_id'].astype(np.int8)\n",
    "test['item_id'] = test['item_id'].astype(np.int16)"
   ]
  },
  {
   "cell_type": "code",
   "execution_count": 10,
   "metadata": {},
   "outputs": [
    {
     "data": {
      "text/plain": [
       "0.06197857856750488"
      ]
     },
     "execution_count": 10,
     "metadata": {},
     "output_type": "execute_result"
    }
   ],
   "source": [
    "ts = time.time()\n",
    "matrix = pd.concat([matrix, test], ignore_index=True, sort=False, keys=cols)\n",
    "matrix.fillna(0, inplace=True) # 34 month\n",
    "time.time() - ts"
   ]
  },
  {
   "cell_type": "code",
   "execution_count": 11,
   "metadata": {},
   "outputs": [
    {
     "data": {
      "text/plain": [
       "(11128004, 4)"
      ]
     },
     "execution_count": 11,
     "metadata": {},
     "output_type": "execute_result"
    }
   ],
   "source": [
    "matrix.shape"
   ]
  },
  {
   "cell_type": "code",
   "execution_count": 14,
   "metadata": {},
   "outputs": [
    {
     "data": {
      "text/plain": [
       "6.549127817153931"
      ]
     },
     "execution_count": 14,
     "metadata": {},
     "output_type": "execute_result"
    }
   ],
   "source": [
    "ts = time.time()\n",
    "matrix = pd.merge(matrix, shops, on=['shop_id'], how='left')\n",
    "matrix = pd.merge(matrix, items, on=['item_id'], how='left')\n",
    "matrix = pd.merge(matrix, cats, on=['item_category_id'], how='left')\n",
    "matrix['city_code'] = matrix['city_code'].astype(np.int8)\n",
    "matrix['item_category_id'] = matrix['item_category_id'].astype(np.int8)\n",
    "matrix['type_code'] = matrix['type_code'].astype(np.int8)\n",
    "matrix['subtype_code'] = matrix['subtype_code'].astype(np.int8)\n",
    "time.time() - ts"
   ]
  },
  {
   "cell_type": "code",
   "execution_count": 15,
   "metadata": {},
   "outputs": [
    {
     "data": {
      "text/plain": [
       "(11128004, 8)"
      ]
     },
     "execution_count": 15,
     "metadata": {},
     "output_type": "execute_result"
    }
   ],
   "source": [
    "matrix.shape"
   ]
  },
  {
   "cell_type": "code",
   "execution_count": 18,
   "metadata": {},
   "outputs": [],
   "source": [
    "def lag_feature(df, lags, col):\n",
    "    tmp = df[['date_block_num','shop_id','item_id',col]]\n",
    "    for i in lags:\n",
    "        shifted = tmp.copy()\n",
    "        shifted.columns = ['date_block_num','shop_id','item_id', col+'_lag_'+str(i)]\n",
    "        shifted['date_block_num'] += i\n",
    "        df = pd.merge(df, shifted, on=['date_block_num','shop_id','item_id'], how='left')\n",
    "    return df"
   ]
  },
  {
   "cell_type": "code",
   "execution_count": 19,
   "metadata": {},
   "outputs": [
    {
     "data": {
      "text/plain": [
       "48.185303926467896"
      ]
     },
     "execution_count": 19,
     "metadata": {},
     "output_type": "execute_result"
    }
   ],
   "source": [
    "ts = time.time()\n",
    "matrix = lag_feature(matrix, [1,2,3,6,12], 'item_cnt_month')\n",
    "time.time() - ts"
   ]
  },
  {
   "cell_type": "code",
   "execution_count": 20,
   "metadata": {},
   "outputs": [
    {
     "data": {
      "text/plain": [
       "14.845098733901978"
      ]
     },
     "execution_count": 20,
     "metadata": {},
     "output_type": "execute_result"
    }
   ],
   "source": [
    "ts = time.time()\n",
    "group = matrix.groupby(['date_block_num']).agg({'item_cnt_month': ['mean']})\n",
    "group.columns = [ 'date_avg_item_cnt' ]\n",
    "group.reset_index(inplace=True)\n",
    "\n",
    "matrix = pd.merge(matrix, group, on=['date_block_num'], how='left')\n",
    "matrix['date_avg_item_cnt'] = matrix['date_avg_item_cnt'].astype(np.float16)\n",
    "matrix = lag_feature(matrix, [1], 'date_avg_item_cnt')\n",
    "matrix.drop(['date_avg_item_cnt'], axis=1, inplace=True)\n",
    "time.time() - ts"
   ]
  },
  {
   "cell_type": "code",
   "execution_count": 21,
   "metadata": {},
   "outputs": [
    {
     "data": {
      "text/plain": [
       "56.64446473121643"
      ]
     },
     "execution_count": 21,
     "metadata": {},
     "output_type": "execute_result"
    }
   ],
   "source": [
    "ts = time.time()\n",
    "group = matrix.groupby(['date_block_num', 'item_id']).agg({'item_cnt_month': ['mean']})\n",
    "group.columns = [ 'date_item_avg_item_cnt' ]\n",
    "group.reset_index(inplace=True)\n",
    "\n",
    "matrix = pd.merge(matrix, group, on=['date_block_num','item_id'], how='left')\n",
    "matrix['date_item_avg_item_cnt'] = matrix['date_item_avg_item_cnt'].astype(np.float16)\n",
    "matrix = lag_feature(matrix, [1,2,3,6,12], 'date_item_avg_item_cnt')\n",
    "matrix.drop(['date_item_avg_item_cnt'], axis=1, inplace=True)\n",
    "time.time() - ts"
   ]
  },
  {
   "cell_type": "code",
   "execution_count": 22,
   "metadata": {},
   "outputs": [
    {
     "data": {
      "text/plain": [
       "56.35637354850769"
      ]
     },
     "execution_count": 22,
     "metadata": {},
     "output_type": "execute_result"
    }
   ],
   "source": [
    "ts = time.time()\n",
    "group = matrix.groupby(['date_block_num', 'shop_id']).agg({'item_cnt_month': ['mean']})\n",
    "group.columns = [ 'date_shop_avg_item_cnt' ]\n",
    "group.reset_index(inplace=True)\n",
    "\n",
    "matrix = pd.merge(matrix, group, on=['date_block_num','shop_id'], how='left')\n",
    "matrix['date_shop_avg_item_cnt'] = matrix['date_shop_avg_item_cnt'].astype(np.float16)\n",
    "matrix = lag_feature(matrix, [1,2,3,6,12], 'date_shop_avg_item_cnt')\n",
    "matrix.drop(['date_shop_avg_item_cnt'], axis=1, inplace=True)\n",
    "time.time() - ts"
   ]
  },
  {
   "cell_type": "code",
   "execution_count": 23,
   "metadata": {},
   "outputs": [
    {
     "data": {
      "text/plain": [
       "17.869394302368164"
      ]
     },
     "execution_count": 23,
     "metadata": {},
     "output_type": "execute_result"
    }
   ],
   "source": [
    "ts = time.time()\n",
    "group = matrix.groupby(['date_block_num', 'item_category_id']).agg({'item_cnt_month': ['mean']})\n",
    "group.columns = [ 'date_cat_avg_item_cnt' ]\n",
    "group.reset_index(inplace=True)\n",
    "\n",
    "matrix = pd.merge(matrix, group, on=['date_block_num','item_category_id'], how='left')\n",
    "matrix['date_cat_avg_item_cnt'] = matrix['date_cat_avg_item_cnt'].astype(np.float16)\n",
    "matrix = lag_feature(matrix, [1], 'date_cat_avg_item_cnt')\n",
    "matrix.drop(['date_cat_avg_item_cnt'], axis=1, inplace=True)\n",
    "time.time() - ts"
   ]
  },
  {
   "cell_type": "code",
   "execution_count": 24,
   "metadata": {},
   "outputs": [
    {
     "data": {
      "text/plain": [
       "18.626444578170776"
      ]
     },
     "execution_count": 24,
     "metadata": {},
     "output_type": "execute_result"
    }
   ],
   "source": [
    "ts = time.time()\n",
    "group = matrix.groupby(['date_block_num', 'shop_id', 'item_category_id']).agg({'item_cnt_month': ['mean']})\n",
    "group.columns = ['date_shop_cat_avg_item_cnt']\n",
    "group.reset_index(inplace=True)\n",
    "\n",
    "matrix = pd.merge(matrix, group, on=['date_block_num', 'shop_id', 'item_category_id'], how='left')\n",
    "matrix['date_shop_cat_avg_item_cnt'] = matrix['date_shop_cat_avg_item_cnt'].astype(np.float16)\n",
    "matrix = lag_feature(matrix, [1], 'date_shop_cat_avg_item_cnt')\n",
    "matrix.drop(['date_shop_cat_avg_item_cnt'], axis=1, inplace=True)\n",
    "time.time() - ts"
   ]
  },
  {
   "cell_type": "code",
   "execution_count": 25,
   "metadata": {},
   "outputs": [
    {
     "data": {
      "text/plain": [
       "18.75356650352478"
      ]
     },
     "execution_count": 25,
     "metadata": {},
     "output_type": "execute_result"
    }
   ],
   "source": [
    "ts = time.time()\n",
    "group = matrix.groupby(['date_block_num', 'shop_id', 'type_code']).agg({'item_cnt_month': ['mean']})\n",
    "group.columns = ['date_shop_type_avg_item_cnt']\n",
    "group.reset_index(inplace=True)\n",
    "\n",
    "matrix = pd.merge(matrix, group, on=['date_block_num', 'shop_id', 'type_code'], how='left')\n",
    "matrix['date_shop_type_avg_item_cnt'] = matrix['date_shop_type_avg_item_cnt'].astype(np.float16)\n",
    "matrix = lag_feature(matrix, [1], 'date_shop_type_avg_item_cnt')\n",
    "matrix.drop(['date_shop_type_avg_item_cnt'], axis=1, inplace=True)\n",
    "time.time() - ts"
   ]
  },
  {
   "cell_type": "code",
   "execution_count": 26,
   "metadata": {},
   "outputs": [
    {
     "data": {
      "text/plain": [
       "19.63795232772827"
      ]
     },
     "execution_count": 26,
     "metadata": {},
     "output_type": "execute_result"
    }
   ],
   "source": [
    "ts = time.time()\n",
    "group = matrix.groupby(['date_block_num', 'shop_id', 'subtype_code']).agg({'item_cnt_month': ['mean']})\n",
    "group.columns = ['date_shop_subtype_avg_item_cnt']\n",
    "group.reset_index(inplace=True)\n",
    "\n",
    "matrix = pd.merge(matrix, group, on=['date_block_num', 'shop_id', 'subtype_code'], how='left')\n",
    "matrix['date_shop_subtype_avg_item_cnt'] = matrix['date_shop_subtype_avg_item_cnt'].astype(np.float16)\n",
    "matrix = lag_feature(matrix, [1], 'date_shop_subtype_avg_item_cnt')\n",
    "matrix.drop(['date_shop_subtype_avg_item_cnt'], axis=1, inplace=True)\n",
    "time.time() - ts"
   ]
  },
  {
   "cell_type": "code",
   "execution_count": 27,
   "metadata": {},
   "outputs": [
    {
     "data": {
      "text/plain": [
       "20.110293865203857"
      ]
     },
     "execution_count": 27,
     "metadata": {},
     "output_type": "execute_result"
    }
   ],
   "source": [
    "ts = time.time()\n",
    "group = matrix.groupby(['date_block_num', 'city_code']).agg({'item_cnt_month': ['mean']})\n",
    "group.columns = [ 'date_city_avg_item_cnt' ]\n",
    "group.reset_index(inplace=True)\n",
    "\n",
    "matrix = pd.merge(matrix, group, on=['date_block_num', 'city_code'], how='left')\n",
    "matrix['date_city_avg_item_cnt'] = matrix['date_city_avg_item_cnt'].astype(np.float16)\n",
    "matrix = lag_feature(matrix, [1], 'date_city_avg_item_cnt')\n",
    "matrix.drop(['date_city_avg_item_cnt'], axis=1, inplace=True)\n",
    "time.time() - ts"
   ]
  },
  {
   "cell_type": "code",
   "execution_count": 28,
   "metadata": {},
   "outputs": [
    {
     "data": {
      "text/plain": [
       "29.581518411636353"
      ]
     },
     "execution_count": 28,
     "metadata": {},
     "output_type": "execute_result"
    }
   ],
   "source": [
    "ts = time.time()\n",
    "group = matrix.groupby(['date_block_num', 'item_id', 'city_code']).agg({'item_cnt_month': ['mean']})\n",
    "group.columns = [ 'date_item_city_avg_item_cnt' ]\n",
    "group.reset_index(inplace=True)\n",
    "\n",
    "matrix = pd.merge(matrix, group, on=['date_block_num', 'item_id', 'city_code'], how='left')\n",
    "matrix['date_item_city_avg_item_cnt'] = matrix['date_item_city_avg_item_cnt'].astype(np.float16)\n",
    "matrix = lag_feature(matrix, [1], 'date_item_city_avg_item_cnt')\n",
    "matrix.drop(['date_item_city_avg_item_cnt'], axis=1, inplace=True)\n",
    "time.time() - ts"
   ]
  },
  {
   "cell_type": "code",
   "execution_count": 29,
   "metadata": {},
   "outputs": [
    {
     "data": {
      "text/plain": [
       "19.255977869033813"
      ]
     },
     "execution_count": 29,
     "metadata": {},
     "output_type": "execute_result"
    }
   ],
   "source": [
    "ts = time.time()\n",
    "group = matrix.groupby(['date_block_num', 'type_code']).agg({'item_cnt_month': ['mean']})\n",
    "group.columns = [ 'date_type_avg_item_cnt' ]\n",
    "group.reset_index(inplace=True)\n",
    "\n",
    "matrix = pd.merge(matrix, group, on=['date_block_num', 'type_code'], how='left')\n",
    "matrix['date_type_avg_item_cnt'] = matrix['date_type_avg_item_cnt'].astype(np.float16)\n",
    "matrix = lag_feature(matrix, [1], 'date_type_avg_item_cnt')\n",
    "matrix.drop(['date_type_avg_item_cnt'], axis=1, inplace=True)\n",
    "time.time() - ts"
   ]
  },
  {
   "cell_type": "code",
   "execution_count": 30,
   "metadata": {},
   "outputs": [
    {
     "data": {
      "text/plain": [
       "21.10137915611267"
      ]
     },
     "execution_count": 30,
     "metadata": {},
     "output_type": "execute_result"
    }
   ],
   "source": [
    "ts = time.time()\n",
    "group = matrix.groupby(['date_block_num', 'subtype_code']).agg({'item_cnt_month': ['mean']})\n",
    "group.columns = [ 'date_subtype_avg_item_cnt' ]\n",
    "group.reset_index(inplace=True)\n",
    "\n",
    "matrix = pd.merge(matrix, group, on=['date_block_num', 'subtype_code'], how='left')\n",
    "matrix['date_subtype_avg_item_cnt'] = matrix['date_subtype_avg_item_cnt'].astype(np.float16)\n",
    "matrix = lag_feature(matrix, [1], 'date_subtype_avg_item_cnt')\n",
    "matrix.drop(['date_subtype_avg_item_cnt'], axis=1, inplace=True)\n",
    "time.time() - ts"
   ]
  },
  {
   "cell_type": "code",
   "execution_count": 31,
   "metadata": {},
   "outputs": [],
   "source": [
    "matrix['month'] = matrix['date_block_num'] % 12"
   ]
  },
  {
   "cell_type": "code",
   "execution_count": 32,
   "metadata": {},
   "outputs": [],
   "source": [
    "days = pd.Series([31,28,31,30,31,30,31,31,30,31,30,31])\n",
    "matrix['days'] = matrix['month'].map(days).astype(np.int8)"
   ]
  },
  {
   "cell_type": "code",
   "execution_count": 33,
   "metadata": {},
   "outputs": [
    {
     "data": {
      "text/plain": [
       "4.8028647899627686"
      ]
     },
     "execution_count": 33,
     "metadata": {},
     "output_type": "execute_result"
    }
   ],
   "source": [
    "ts = time.time()\n",
    "def fill_na(df):\n",
    "    for col in df.columns:\n",
    "        if ('_lag_' in col) & (df[col].isnull().any()):\n",
    "            if ('item_cnt' in col):\n",
    "                df[col].fillna(0, inplace=True)         \n",
    "    return df\n",
    "\n",
    "matrix = fill_na(matrix)\n",
    "time.time() - ts"
   ]
  },
  {
   "cell_type": "code",
   "execution_count": 34,
   "metadata": {},
   "outputs": [
    {
     "data": {
      "text/plain": [
       "(11128004, 34)"
      ]
     },
     "execution_count": 34,
     "metadata": {},
     "output_type": "execute_result"
    }
   ],
   "source": [
    "matrix.shape"
   ]
  },
  {
   "cell_type": "code",
   "execution_count": 35,
   "metadata": {},
   "outputs": [],
   "source": [
    "matrix.to_pickle('data.pkl')\n",
    "del matrix\n",
    "#del cache\n",
    "del group\n",
    "del items\n",
    "del shops\n",
    "del cats\n",
    "del train\n",
    "# leave test for submission\n",
    "gc.collect();"
   ]
  },
  {
   "cell_type": "code",
   "execution_count": 36,
   "metadata": {},
   "outputs": [],
   "source": [
    "data = pd.read_pickle('data.pkl')"
   ]
  },
  {
   "cell_type": "code",
   "execution_count": 37,
   "metadata": {},
   "outputs": [],
   "source": [
    "data = data[[\n",
    "    'date_block_num',\n",
    "    'shop_id',\n",
    "    'item_id',\n",
    "    'item_cnt_month',\n",
    "    'city_code',\n",
    "    'item_category_id',\n",
    "    'type_code',\n",
    "    'subtype_code',\n",
    "    'item_cnt_month_lag_1',\n",
    "    'item_cnt_month_lag_2',\n",
    "    'item_cnt_month_lag_3',\n",
    "    'item_cnt_month_lag_6',\n",
    "    'item_cnt_month_lag_12',\n",
    "    'date_avg_item_cnt_lag_1',\n",
    "    'date_item_avg_item_cnt_lag_1',\n",
    "    'date_item_avg_item_cnt_lag_2',\n",
    "    'date_item_avg_item_cnt_lag_3',\n",
    "    'date_item_avg_item_cnt_lag_6',\n",
    "    'date_item_avg_item_cnt_lag_12',\n",
    "    'date_shop_avg_item_cnt_lag_1',\n",
    "    'date_shop_avg_item_cnt_lag_2',\n",
    "    'date_shop_avg_item_cnt_lag_3',\n",
    "    'date_shop_avg_item_cnt_lag_6',\n",
    "    'date_shop_avg_item_cnt_lag_12',\n",
    "    'date_cat_avg_item_cnt_lag_1',\n",
    "    'date_shop_cat_avg_item_cnt_lag_1',\n",
    "    #'date_shop_type_avg_item_cnt_lag_1',\n",
    "    #'date_shop_subtype_avg_item_cnt_lag_1',\n",
    "    'date_city_avg_item_cnt_lag_1',\n",
    "    'date_item_city_avg_item_cnt_lag_1',\n",
    "    #'date_type_avg_item_cnt_lag_1',\n",
    "    #'date_subtype_avg_item_cnt_lag_1',\n",
    "    #'delta_price_lag',\n",
    "    'month',\n",
    "    'days',\n",
    "    #'item_shop_last_sale',\n",
    "    #'item_last_sale',\n",
    "    #'item_shop_first_sale',\n",
    "    #'item_first_sale',\n",
    "]]"
   ]
  },
  {
   "cell_type": "code",
   "execution_count": 38,
   "metadata": {},
   "outputs": [],
   "source": [
    "X_train = data[data.date_block_num < 33].drop(['item_cnt_month'], axis=1)\n",
    "Y_train = data[data.date_block_num < 33]['item_cnt_month']\n",
    "X_valid = data[data.date_block_num == 33].drop(['item_cnt_month'], axis=1)\n",
    "Y_valid = data[data.date_block_num == 33]['item_cnt_month']\n",
    "X_test = data[data.date_block_num == 34].drop(['item_cnt_month'], axis=1)"
   ]
  },
  {
   "cell_type": "code",
   "execution_count": 39,
   "metadata": {},
   "outputs": [],
   "source": [
    "del data\n",
    "gc.collect();"
   ]
  },
  {
   "cell_type": "code",
   "execution_count": 40,
   "metadata": {
    "scrolled": false
   },
   "outputs": [
    {
     "name": "stderr",
     "output_type": "stream",
     "text": [
      "C:\\Users\\EweiwiA\\Programs\\anaconda\\envs\\kaggle\\lib\\site-packages\\xgboost\\core.py:587: FutureWarning: Series.base is deprecated and will be removed in a future version\n",
      "  if getattr(data, 'base', None) is not None and \\\n",
      "C:\\Users\\EweiwiA\\Programs\\anaconda\\envs\\kaggle\\lib\\site-packages\\xgboost\\core.py:588: FutureWarning: Series.base is deprecated and will be removed in a future version\n",
      "  data.base is not None and isinstance(data, np.ndarray) \\\n"
     ]
    },
    {
     "name": "stdout",
     "output_type": "stream",
     "text": [
      "[0]\tvalidation_0-rmse:1.13863\tvalidation_1-rmse:1.12689\n",
      "Multiple eval metrics have been passed: 'validation_1-rmse' will be used for early stopping.\n",
      "\n",
      "Will train until validation_1-rmse hasn't improved in 10 rounds.\n",
      "[1]\tvalidation_0-rmse:1.10902\tvalidation_1-rmse:1.09676\n",
      "[2]\tvalidation_0-rmse:1.08457\tvalidation_1-rmse:1.07296\n",
      "[3]\tvalidation_0-rmse:1.06635\tvalidation_1-rmse:1.0538\n",
      "[4]\tvalidation_0-rmse:1.04091\tvalidation_1-rmse:1.03639\n",
      "[5]\tvalidation_0-rmse:1.02353\tvalidation_1-rmse:1.02286\n",
      "[6]\tvalidation_0-rmse:1.01067\tvalidation_1-rmse:1.01116\n",
      "[7]\tvalidation_0-rmse:1.00156\tvalidation_1-rmse:1.00117\n",
      "[8]\tvalidation_0-rmse:0.990823\tvalidation_1-rmse:0.993514\n",
      "[9]\tvalidation_0-rmse:0.982732\tvalidation_1-rmse:0.986307\n",
      "[10]\tvalidation_0-rmse:0.976339\tvalidation_1-rmse:0.981004\n",
      "[11]\tvalidation_0-rmse:0.970815\tvalidation_1-rmse:0.976409\n",
      "[12]\tvalidation_0-rmse:0.966028\tvalidation_1-rmse:0.972292\n",
      "[13]\tvalidation_0-rmse:0.961949\tvalidation_1-rmse:0.968984\n",
      "[14]\tvalidation_0-rmse:0.958367\tvalidation_1-rmse:0.966963\n",
      "[15]\tvalidation_0-rmse:0.955966\tvalidation_1-rmse:0.964399\n",
      "[16]\tvalidation_0-rmse:0.953408\tvalidation_1-rmse:0.962618\n",
      "[17]\tvalidation_0-rmse:0.951351\tvalidation_1-rmse:0.961124\n",
      "[18]\tvalidation_0-rmse:0.949454\tvalidation_1-rmse:0.960078\n",
      "[19]\tvalidation_0-rmse:0.947897\tvalidation_1-rmse:0.958818\n",
      "[20]\tvalidation_0-rmse:0.946143\tvalidation_1-rmse:0.957595\n",
      "[21]\tvalidation_0-rmse:0.944691\tvalidation_1-rmse:0.95653\n",
      "[22]\tvalidation_0-rmse:0.943379\tvalidation_1-rmse:0.955847\n",
      "[23]\tvalidation_0-rmse:0.94254\tvalidation_1-rmse:0.955005\n",
      "[24]\tvalidation_0-rmse:0.941537\tvalidation_1-rmse:0.954211\n",
      "[25]\tvalidation_0-rmse:0.94064\tvalidation_1-rmse:0.953702\n",
      "[26]\tvalidation_0-rmse:0.939826\tvalidation_1-rmse:0.953414\n",
      "[27]\tvalidation_0-rmse:0.939029\tvalidation_1-rmse:0.952546\n",
      "[28]\tvalidation_0-rmse:0.938334\tvalidation_1-rmse:0.952295\n",
      "[29]\tvalidation_0-rmse:0.937411\tvalidation_1-rmse:0.952183\n",
      "[30]\tvalidation_0-rmse:0.936793\tvalidation_1-rmse:0.952087\n",
      "[31]\tvalidation_0-rmse:0.936164\tvalidation_1-rmse:0.95174\n",
      "[32]\tvalidation_0-rmse:0.935348\tvalidation_1-rmse:0.951867\n",
      "[33]\tvalidation_0-rmse:0.934616\tvalidation_1-rmse:0.951738\n",
      "[34]\tvalidation_0-rmse:0.933982\tvalidation_1-rmse:0.95149\n",
      "[35]\tvalidation_0-rmse:0.933544\tvalidation_1-rmse:0.951312\n",
      "[36]\tvalidation_0-rmse:0.932933\tvalidation_1-rmse:0.950879\n",
      "[37]\tvalidation_0-rmse:0.93222\tvalidation_1-rmse:0.950731\n",
      "[38]\tvalidation_0-rmse:0.931667\tvalidation_1-rmse:0.950156\n",
      "[39]\tvalidation_0-rmse:0.931234\tvalidation_1-rmse:0.949742\n",
      "[40]\tvalidation_0-rmse:0.930678\tvalidation_1-rmse:0.949063\n",
      "[41]\tvalidation_0-rmse:0.930301\tvalidation_1-rmse:0.94905\n",
      "[42]\tvalidation_0-rmse:0.929942\tvalidation_1-rmse:0.948829\n",
      "[43]\tvalidation_0-rmse:0.929412\tvalidation_1-rmse:0.949108\n",
      "[44]\tvalidation_0-rmse:0.928924\tvalidation_1-rmse:0.948831\n",
      "[45]\tvalidation_0-rmse:0.928586\tvalidation_1-rmse:0.948115\n",
      "[46]\tvalidation_0-rmse:0.928041\tvalidation_1-rmse:0.947673\n",
      "[47]\tvalidation_0-rmse:0.927577\tvalidation_1-rmse:0.94776\n",
      "[48]\tvalidation_0-rmse:0.927243\tvalidation_1-rmse:0.947684\n",
      "[49]\tvalidation_0-rmse:0.927058\tvalidation_1-rmse:0.947389\n",
      "[50]\tvalidation_0-rmse:0.92627\tvalidation_1-rmse:0.947322\n",
      "[51]\tvalidation_0-rmse:0.925924\tvalidation_1-rmse:0.94709\n",
      "[52]\tvalidation_0-rmse:0.925536\tvalidation_1-rmse:0.946293\n",
      "[53]\tvalidation_0-rmse:0.925101\tvalidation_1-rmse:0.946343\n",
      "[54]\tvalidation_0-rmse:0.924712\tvalidation_1-rmse:0.945971\n",
      "[55]\tvalidation_0-rmse:0.924407\tvalidation_1-rmse:0.945493\n",
      "[56]\tvalidation_0-rmse:0.92357\tvalidation_1-rmse:0.945363\n",
      "[57]\tvalidation_0-rmse:0.923128\tvalidation_1-rmse:0.945315\n",
      "[58]\tvalidation_0-rmse:0.922773\tvalidation_1-rmse:0.944828\n",
      "[59]\tvalidation_0-rmse:0.921872\tvalidation_1-rmse:0.942776\n",
      "[60]\tvalidation_0-rmse:0.920954\tvalidation_1-rmse:0.941609\n",
      "[61]\tvalidation_0-rmse:0.920777\tvalidation_1-rmse:0.941517\n",
      "[62]\tvalidation_0-rmse:0.920404\tvalidation_1-rmse:0.94208\n",
      "[63]\tvalidation_0-rmse:0.920222\tvalidation_1-rmse:0.941865\n",
      "[64]\tvalidation_0-rmse:0.91931\tvalidation_1-rmse:0.941049\n",
      "[65]\tvalidation_0-rmse:0.919253\tvalidation_1-rmse:0.940814\n",
      "[66]\tvalidation_0-rmse:0.919\tvalidation_1-rmse:0.94079\n",
      "[67]\tvalidation_0-rmse:0.91888\tvalidation_1-rmse:0.940743\n",
      "[68]\tvalidation_0-rmse:0.918314\tvalidation_1-rmse:0.940828\n",
      "[69]\tvalidation_0-rmse:0.918039\tvalidation_1-rmse:0.940611\n",
      "[70]\tvalidation_0-rmse:0.917626\tvalidation_1-rmse:0.940136\n",
      "[71]\tvalidation_0-rmse:0.917455\tvalidation_1-rmse:0.939907\n",
      "[72]\tvalidation_0-rmse:0.916948\tvalidation_1-rmse:0.939103\n",
      "[73]\tvalidation_0-rmse:0.916701\tvalidation_1-rmse:0.938884\n",
      "[74]\tvalidation_0-rmse:0.91633\tvalidation_1-rmse:0.93865\n",
      "[75]\tvalidation_0-rmse:0.916174\tvalidation_1-rmse:0.938334\n",
      "[76]\tvalidation_0-rmse:0.915975\tvalidation_1-rmse:0.938049\n",
      "[77]\tvalidation_0-rmse:0.91575\tvalidation_1-rmse:0.937974\n",
      "[78]\tvalidation_0-rmse:0.915538\tvalidation_1-rmse:0.937859\n",
      "[79]\tvalidation_0-rmse:0.915244\tvalidation_1-rmse:0.93766\n",
      "[80]\tvalidation_0-rmse:0.915165\tvalidation_1-rmse:0.93757\n",
      "[81]\tvalidation_0-rmse:0.914974\tvalidation_1-rmse:0.937729\n",
      "[82]\tvalidation_0-rmse:0.913976\tvalidation_1-rmse:0.937693\n",
      "[83]\tvalidation_0-rmse:0.913775\tvalidation_1-rmse:0.937614\n",
      "[84]\tvalidation_0-rmse:0.913452\tvalidation_1-rmse:0.937461\n",
      "[85]\tvalidation_0-rmse:0.913183\tvalidation_1-rmse:0.937386\n",
      "[86]\tvalidation_0-rmse:0.912938\tvalidation_1-rmse:0.937584\n",
      "[87]\tvalidation_0-rmse:0.912818\tvalidation_1-rmse:0.937479\n",
      "[88]\tvalidation_0-rmse:0.912525\tvalidation_1-rmse:0.937031\n",
      "[89]\tvalidation_0-rmse:0.912365\tvalidation_1-rmse:0.936882\n",
      "[90]\tvalidation_0-rmse:0.912109\tvalidation_1-rmse:0.936865\n",
      "[91]\tvalidation_0-rmse:0.911838\tvalidation_1-rmse:0.93669\n",
      "[92]\tvalidation_0-rmse:0.911656\tvalidation_1-rmse:0.936639\n",
      "[93]\tvalidation_0-rmse:0.911596\tvalidation_1-rmse:0.936401\n",
      "[94]\tvalidation_0-rmse:0.911466\tvalidation_1-rmse:0.936385\n",
      "[95]\tvalidation_0-rmse:0.911008\tvalidation_1-rmse:0.935956\n",
      "[96]\tvalidation_0-rmse:0.910784\tvalidation_1-rmse:0.935916\n",
      "[97]\tvalidation_0-rmse:0.910639\tvalidation_1-rmse:0.935991\n",
      "[98]\tvalidation_0-rmse:0.910441\tvalidation_1-rmse:0.935978\n",
      "[99]\tvalidation_0-rmse:0.910363\tvalidation_1-rmse:0.935875\n",
      "[100]\tvalidation_0-rmse:0.910232\tvalidation_1-rmse:0.935932\n",
      "[101]\tvalidation_0-rmse:0.910092\tvalidation_1-rmse:0.935979\n",
      "[102]\tvalidation_0-rmse:0.909887\tvalidation_1-rmse:0.935951\n",
      "[103]\tvalidation_0-rmse:0.909747\tvalidation_1-rmse:0.935956\n",
      "[104]\tvalidation_0-rmse:0.909126\tvalidation_1-rmse:0.935247\n",
      "[105]\tvalidation_0-rmse:0.908966\tvalidation_1-rmse:0.935242\n",
      "[106]\tvalidation_0-rmse:0.908754\tvalidation_1-rmse:0.935223\n",
      "[107]\tvalidation_0-rmse:0.908498\tvalidation_1-rmse:0.935141\n",
      "[108]\tvalidation_0-rmse:0.908333\tvalidation_1-rmse:0.935149\n",
      "[109]\tvalidation_0-rmse:0.908173\tvalidation_1-rmse:0.935035\n",
      "[110]\tvalidation_0-rmse:0.908094\tvalidation_1-rmse:0.934953\n",
      "[111]\tvalidation_0-rmse:0.907998\tvalidation_1-rmse:0.934795\n",
      "[112]\tvalidation_0-rmse:0.907906\tvalidation_1-rmse:0.934739\n",
      "[113]\tvalidation_0-rmse:0.907628\tvalidation_1-rmse:0.934437\n",
      "[114]\tvalidation_0-rmse:0.907481\tvalidation_1-rmse:0.933884\n",
      "[115]\tvalidation_0-rmse:0.907268\tvalidation_1-rmse:0.934012\n",
      "[116]\tvalidation_0-rmse:0.90706\tvalidation_1-rmse:0.933983\n",
      "[117]\tvalidation_0-rmse:0.906837\tvalidation_1-rmse:0.933973\n",
      "[118]\tvalidation_0-rmse:0.906787\tvalidation_1-rmse:0.934138\n",
      "[119]\tvalidation_0-rmse:0.906564\tvalidation_1-rmse:0.934455\n",
      "[120]\tvalidation_0-rmse:0.906495\tvalidation_1-rmse:0.934387\n",
      "[121]\tvalidation_0-rmse:0.906414\tvalidation_1-rmse:0.934406\n",
      "[122]\tvalidation_0-rmse:0.906269\tvalidation_1-rmse:0.934272\n",
      "[123]\tvalidation_0-rmse:0.906047\tvalidation_1-rmse:0.934425\n",
      "[124]\tvalidation_0-rmse:0.905824\tvalidation_1-rmse:0.934213\n",
      "Stopping. Best iteration:\n",
      "[114]\tvalidation_0-rmse:0.907481\tvalidation_1-rmse:0.933884\n",
      "\n"
     ]
    },
    {
     "data": {
      "text/plain": [
       "3204.8826377391815"
      ]
     },
     "execution_count": 40,
     "metadata": {},
     "output_type": "execute_result"
    }
   ],
   "source": [
    "ts = time.time()\n",
    "\n",
    "model = XGBRegressor(\n",
    "    max_depth=5,\n",
    "    n_estimators=1000,\n",
    "    min_child_weight=0.5, \n",
    "    colsample_bytree=0.8, \n",
    "    subsample=0.8, \n",
    "    eta=0.3,    \n",
    "    seed=42)\n",
    "\n",
    "model.fit(\n",
    "    X_train, \n",
    "    Y_train, \n",
    "    eval_metric=\"rmse\", \n",
    "    eval_set=[(X_train, Y_train), (X_valid, Y_valid)], \n",
    "    verbose=True, \n",
    "    early_stopping_rounds = 10)\n",
    "\n",
    "time.time() - ts"
   ]
  },
  {
   "cell_type": "code",
   "execution_count": null,
   "metadata": {},
   "outputs": [],
   "source": []
  }
 ],
 "metadata": {
  "kernelspec": {
   "display_name": "Python 3",
   "language": "python",
   "name": "python3"
  },
  "language_info": {
   "codemirror_mode": {
    "name": "ipython",
    "version": 3
   },
   "file_extension": ".py",
   "mimetype": "text/x-python",
   "name": "python",
   "nbconvert_exporter": "python",
   "pygments_lexer": "ipython3",
   "version": "3.7.3"
  }
 },
 "nbformat": 4,
 "nbformat_minor": 2
}
