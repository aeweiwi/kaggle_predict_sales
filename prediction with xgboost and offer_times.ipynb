{
 "cells": [
  {
   "cell_type": "code",
   "execution_count": null,
   "metadata": {
    "ExecuteTime": {
     "end_time": "2019-04-28T13:32:43.906254Z",
     "start_time": "2019-04-28T13:32:43.903256Z"
    }
   },
   "outputs": [],
   "source": [
    "# ensure that the product of "
   ]
  },
  {
   "cell_type": "code",
   "execution_count": 1,
   "metadata": {
    "ExecuteTime": {
     "end_time": "2019-04-28T20:52:31.735720Z",
     "start_time": "2019-04-28T20:52:31.723720Z"
    }
   },
   "outputs": [
    {
     "name": "stderr",
     "output_type": "stream",
     "text": [
      "C:\\Users\\EweiwiA\\Programs\\anaconda\\envs\\kaggle\\lib\\site-packages\\smart_open\\ssh.py:34: UserWarning: paramiko missing, opening SSH/SCP/SFTP paths will be disabled.  `pip install paramiko` to suppress\n",
      "  warnings.warn('paramiko missing, opening SSH/SCP/SFTP paths will be disabled.  `pip install paramiko` to suppress')\n",
      "C:\\Users\\EweiwiA\\Programs\\anaconda\\envs\\kaggle\\lib\\site-packages\\gensim\\utils.py:1197: UserWarning: detected Windows; aliasing chunkize to chunkize_serial\n",
      "  warnings.warn(\"detected Windows; aliasing chunkize to chunkize_serial\")\n"
     ]
    }
   ],
   "source": [
    "import numpy as np\n",
    "import pandas as pd\n",
    "import scipy\n",
    "import xgboost as xgb\n",
    "import matplotlib.pyplot as plt\n",
    "import seaborn as sns\n",
    "from itertools import product\n",
    "\n",
    "from sklearn.ensemble import RandomForestClassifier\n",
    "from scipy.optimize import curve_fit\n",
    "\n",
    "from scipy.stats import boxcox\n",
    "from multiprocessing import Pool, cpu_count\n",
    "import tqdm\n",
    "from xgboost import XGBRegressor\n",
    "from sklearn.preprocessing import LabelEncoder\n",
    "import re, string, timeit\n",
    "from xgboost import plot_importance\n",
    "from gensim.models import Word2Vec \n",
    "sns.set(style=\"darkgrid\")\n",
    "\n",
    "%matplotlib inline"
   ]
  },
  {
   "cell_type": "code",
   "execution_count": 2,
   "metadata": {
    "ExecuteTime": {
     "end_time": "2019-04-28T20:52:37.454717Z",
     "start_time": "2019-04-28T20:52:36.015747Z"
    }
   },
   "outputs": [],
   "source": [
    "items = pd.read_csv('items.csv')\n",
    "item_cat = pd.read_csv('item_categories.csv')\n",
    "shops = pd.read_csv('shops.csv')\n",
    "train = pd.read_csv('sales_train_v2.csv')\n",
    "test = pd.read_csv('test.csv')"
   ]
  },
  {
   "cell_type": "code",
   "execution_count": 3,
   "metadata": {
    "ExecuteTime": {
     "end_time": "2019-04-28T20:53:08.114718Z",
     "start_time": "2019-04-28T20:53:07.521722Z"
    }
   },
   "outputs": [],
   "source": [
    "train = train[train['item_price'] < 10000]\n",
    "train = train[train['item_cnt_day'] < 600]\n",
    "\n",
    "train.loc[train.shop_id == 0, 'shop_id'] = 57\n",
    "test.loc[test.shop_id == 0, 'shop_id'] = 57\n",
    "# Якутск ТЦ \"Центральный\"\n",
    "train.loc[train.shop_id == 1, 'shop_id'] = 58\n",
    "test.loc[test.shop_id == 1, 'shop_id'] = 58\n",
    "# Жуковский ул. Чкалова 39м²\n",
    "train.loc[train.shop_id == 10, 'shop_id'] = 11\n",
    "test.loc[test.shop_id == 10, 'shop_id'] = 11"
   ]
  },
  {
   "cell_type": "code",
   "execution_count": 4,
   "metadata": {
    "ExecuteTime": {
     "end_time": "2019-04-28T20:53:23.515719Z",
     "start_time": "2019-04-28T20:53:23.496723Z"
    }
   },
   "outputs": [],
   "source": [
    "item_cat = item_cat.sort_values(by=['item_category_name'])\n",
    "item_cat['item_cat_level1'] = item_cat['item_category_name'].str.split('-').apply(lambda x: x[0].strip())\n",
    "\n",
    "\n",
    "def func(x):\n",
    "    try:\n",
    "        return x[1]\n",
    "    except Exception as e:\n",
    "        return 'unknown'\n",
    "item_cat['item_cat_level2'] = item_cat['item_category_name'].str.split('-').apply(lambda x: func(x)).value_counts()\n",
    "\n",
    "item_cat.sort_values(by=['item_cat_level1', 'item_cat_level2'], inplace=True)\n",
    "item_cat['item_cat_level1'] = LabelEncoder().fit_transform(item_cat['item_cat_level1'])\n",
    "item_cat['item_cat_level2'] = LabelEncoder().fit_transform(item_cat['item_cat_level2'])\n",
    "\n",
    "#item_cat['item_category_name'] = item_cat['item_category_name'].factorize()[0]"
   ]
  },
  {
   "cell_type": "code",
   "execution_count": 5,
   "metadata": {
    "ExecuteTime": {
     "end_time": "2019-04-28T20:53:26.789719Z",
     "start_time": "2019-04-28T20:53:26.776718Z"
    }
   },
   "outputs": [],
   "source": [
    "shops = shops.sort_values(by=['shop_name'])\n",
    "\n",
    "shops['shop_city'] = shops['shop_name'].str.split(' ').apply(lambda x: x[0].strip())\n",
    "shops.loc[(shops['shop_city'] == u'!Якутск'), 'shop_city'] = u'Якутск'\n",
    "shops['shop_type']  = shops['shop_name'].str.split(' ').apply(lambda x: '_'.join([re.sub(r'[^\\w\\s]','',t) for t in x[1:2]]))\n",
    "shops['shop_lname'] = shops['shop_name'].str.split(' ').apply(lambda x: '_'.join([re.sub(r'[^\\w\\s]','',t) for t in x[2:]]))\n",
    "\n",
    "shops['shop_city'] = LabelEncoder().fit_transform(shops['shop_city'])\n",
    "shops['shop_type'] = LabelEncoder().fit_transform(shops['shop_type'])\n",
    "shops['shop_lname'] = LabelEncoder().fit_transform(shops['shop_lname'])"
   ]
  },
  {
   "cell_type": "code",
   "execution_count": 6,
   "metadata": {},
   "outputs": [
    {
     "data": {
      "text/html": [
       "<div>\n",
       "<style scoped>\n",
       "    .dataframe tbody tr th:only-of-type {\n",
       "        vertical-align: middle;\n",
       "    }\n",
       "\n",
       "    .dataframe tbody tr th {\n",
       "        vertical-align: top;\n",
       "    }\n",
       "\n",
       "    .dataframe thead th {\n",
       "        text-align: right;\n",
       "    }\n",
       "</style>\n",
       "<table border=\"1\" class=\"dataframe\">\n",
       "  <thead>\n",
       "    <tr style=\"text-align: right;\">\n",
       "      <th></th>\n",
       "      <th>shop_name</th>\n",
       "      <th>shop_id</th>\n",
       "      <th>shop_city</th>\n",
       "      <th>shop_type</th>\n",
       "      <th>shop_lname</th>\n",
       "    </tr>\n",
       "  </thead>\n",
       "  <tbody>\n",
       "    <tr>\n",
       "      <th>0</th>\n",
       "      <td>!Якутск Орджоникидзе, 56 фран</td>\n",
       "      <td>0</td>\n",
       "      <td>29</td>\n",
       "      <td>2</td>\n",
       "      <td>4</td>\n",
       "    </tr>\n",
       "    <tr>\n",
       "      <th>1</th>\n",
       "      <td>!Якутск ТЦ \"Центральный\" фран</td>\n",
       "      <td>1</td>\n",
       "      <td>29</td>\n",
       "      <td>9</td>\n",
       "      <td>50</td>\n",
       "    </tr>\n",
       "    <tr>\n",
       "      <th>2</th>\n",
       "      <td>Адыгея ТЦ \"Мега\"</td>\n",
       "      <td>2</td>\n",
       "      <td>0</td>\n",
       "      <td>9</td>\n",
       "      <td>27</td>\n",
       "    </tr>\n",
       "    <tr>\n",
       "      <th>3</th>\n",
       "      <td>Балашиха ТРК \"Октябрь-Киномир\"</td>\n",
       "      <td>3</td>\n",
       "      <td>1</td>\n",
       "      <td>7</td>\n",
       "      <td>33</td>\n",
       "    </tr>\n",
       "    <tr>\n",
       "      <th>4</th>\n",
       "      <td>Волжский ТЦ \"Волга Молл\"</td>\n",
       "      <td>4</td>\n",
       "      <td>2</td>\n",
       "      <td>9</td>\n",
       "      <td>15</td>\n",
       "    </tr>\n",
       "  </tbody>\n",
       "</table>\n",
       "</div>"
      ],
      "text/plain": [
       "                        shop_name  shop_id  shop_city  shop_type  shop_lname\n",
       "0   !Якутск Орджоникидзе, 56 фран        0         29          2           4\n",
       "1   !Якутск ТЦ \"Центральный\" фран        1         29          9          50\n",
       "2                Адыгея ТЦ \"Мега\"        2          0          9          27\n",
       "3  Балашиха ТРК \"Октябрь-Киномир\"        3          1          7          33\n",
       "4        Волжский ТЦ \"Волга Молл\"        4          2          9          15"
      ]
     },
     "execution_count": 6,
     "metadata": {},
     "output_type": "execute_result"
    }
   ],
   "source": [
    "shops.head()"
   ]
  },
  {
   "cell_type": "code",
   "execution_count": 7,
   "metadata": {
    "ExecuteTime": {
     "end_time": "2019-04-28T20:53:53.173718Z",
     "start_time": "2019-04-28T20:53:51.849741Z"
    }
   },
   "outputs": [],
   "source": [
    "offers_df = pd.merge(train, shops, left_on=['shop_id'], right_on=['shop_id'], how='left')\n",
    "\n",
    "offer_item_shop_times = offers_df.groupby(['item_id', 'shop_id'], as_index=False)['item_price'].count()\n",
    "offer_item_shop_times.columns = ['item_id', 'shop_id', 'offer_item_shop_times']\n",
    "\n",
    "offer_item_city_times = offers_df.groupby(['item_id', 'shop_city'], as_index=False)['item_price'].count()\n",
    "offer_item_city_times.columns = ['item_id', 'shop_id', 'offer_item_city_times']\n",
    "\n",
    "offer_shop_city_times = offers_df.groupby(['shop_id', 'shop_city'], as_index=False)['item_price'].count()\n",
    "offer_shop_city_times.columns = ['item_id', 'shop_id', 'offer_shop_city_times']"
   ]
  },
  {
   "cell_type": "code",
   "execution_count": 8,
   "metadata": {
    "ExecuteTime": {
     "end_time": "2019-04-28T20:53:57.404719Z",
     "start_time": "2019-04-28T20:53:57.401717Z"
    }
   },
   "outputs": [],
   "source": [
    "days_per_month = pd.Series({0:31, 1:28, 2: 31, 3: 30, 4: 31, 5: 30, 6: 31, 7: 31, 8: 30, 9: 31, 10: 30, 11: 30})"
   ]
  },
  {
   "cell_type": "code",
   "execution_count": 9,
   "metadata": {
    "ExecuteTime": {
     "end_time": "2019-04-28T13:32:49.551774Z",
     "start_time": "2019-04-28T13:32:48.659743Z"
    }
   },
   "outputs": [],
   "source": [
    "matrix = train.groupby(['date_block_num', 'shop_id', 'item_id'], as_index=False).agg({'item_cnt_day': 'sum'})\n",
    "matrix.columns = ['date_block_num', 'shop_id', 'item_id', 'item_cnt_month']\n",
    "matrix['item_cnt_month'] = matrix['item_cnt_month'].clip(0,20)\n",
    "\n"
   ]
  },
  {
   "cell_type": "code",
   "execution_count": 10,
   "metadata": {
    "ExecuteTime": {
     "end_time": "2019-04-28T07:15:19.987849Z",
     "start_time": "2019-04-28T07:15:19.980877Z"
    }
   },
   "outputs": [],
   "source": [
    "###### test_df['item_cnt_month'] = 0\n",
    "test['date_block_num'] = 34\n",
    "test['item_cnt_month'] = 0 \n",
    "test.set_index('ID', inplace=True)\n",
    "test = test[['date_block_num', 'shop_id', 'item_id', 'item_cnt_month']]\n"
   ]
  },
  {
   "cell_type": "code",
   "execution_count": null,
   "metadata": {},
   "outputs": [],
   "source": [
    "matrix.head()"
   ]
  },
  {
   "cell_type": "code",
   "execution_count": null,
   "metadata": {},
   "outputs": [],
   "source": [
    "test.head()"
   ]
  },
  {
   "cell_type": "code",
   "execution_count": 11,
   "metadata": {
    "ExecuteTime": {
     "end_time": "2019-04-28T13:32:51.158743Z",
     "start_time": "2019-04-28T13:32:50.156Z"
    }
   },
   "outputs": [],
   "source": [
    "cols = ['date_block_num','shop_id','item_id']\n",
    "\n",
    "matrix = pd.concat([matrix, test], axis=0, sort=False, ignore_index=True, keys=cols)"
   ]
  },
  {
   "cell_type": "code",
   "execution_count": 12,
   "metadata": {},
   "outputs": [
    {
     "data": {
      "text/plain": [
       "(1814574, 4)"
      ]
     },
     "execution_count": 12,
     "metadata": {},
     "output_type": "execute_result"
    }
   ],
   "source": [
    "matrix.shape"
   ]
  },
  {
   "cell_type": "code",
   "execution_count": null,
   "metadata": {
    "ExecuteTime": {
     "end_time": "2019-04-28T13:32:51.158743Z",
     "start_time": "2019-04-28T13:32:50.675Z"
    }
   },
   "outputs": [],
   "source": [
    "#Unfortunately, offers does not help much\n",
    "\"\"\"\n",
    "matrix = pd.merge(matrix, offer_item_shop_times, left_on=['item_id', 'shop_id'], right_on= ['item_id', 'shop_id'], how='left')\n",
    "matrix['offer_item_shop_times'].fillna(0, inplace=True)\n",
    "\n",
    "matrix = pd.merge(matrix, offer_item_city_times, left_on=['item_id', 'shop_id'], right_on= ['item_id', 'shop_id'], how='left')\n",
    "matrix['offer_item_city_times'].fillna(0, inplace=True)\n",
    "\n",
    "matrix = pd.merge(matrix, offer_shop_city_times, left_on=['item_id', 'shop_id'], right_on= ['item_id', 'shop_id'], how='left')\n",
    "matrix['offer_shop_city_times'].fillna(0, inplace=True)\n",
    "\"\"\""
   ]
  },
  {
   "cell_type": "code",
   "execution_count": null,
   "metadata": {
    "ExecuteTime": {
     "end_time": "2019-04-28T13:32:52.252927Z",
     "start_time": "2019-04-28T13:32:51.383901Z"
    }
   },
   "outputs": [],
   "source": [
    "print (matrix.shape)\n",
    "\n",
    "matrix = pd.merge(matrix, shops, left_on='shop_id', right_on='shop_id', how='left')\n",
    "print (matrix.shape)\n",
    "matrix = pd.merge(matrix, items, left_on='item_id', right_on='item_id', how='left')\n",
    "print (matrix.shape)\n",
    "matrix = pd.merge(matrix, item_cat, left_on='item_category_id', right_on='item_category_id', how='left')\n",
    "print (matrix.shape)\n",
    "matrix['month'] =  (matrix['date_block_num'])%12\n",
    "matrix['days_per_month'] = matrix['month'].map(days_per_month)"
   ]
  },
  {
   "cell_type": "code",
   "execution_count": null,
   "metadata": {
    "ExecuteTime": {
     "end_time": "2019-04-28T13:32:54.879306Z",
     "start_time": "2019-04-28T13:32:54.239307Z"
    }
   },
   "outputs": [],
   "source": [
    "matrix.info()"
   ]
  },
  {
   "cell_type": "code",
   "execution_count": null,
   "metadata": {},
   "outputs": [],
   "source": [
    "matrix['date_block_num'].dtype"
   ]
  },
  {
   "cell_type": "code",
   "execution_count": null,
   "metadata": {
    "ExecuteTime": {
     "end_time": "2019-04-28T13:32:55.608558Z",
     "start_time": "2019-04-28T13:32:55.550548Z"
    }
   },
   "outputs": [],
   "source": [
    "matrix.date_block_num = matrix.date_block_num.astype('float16')\n",
    "matrix.item_cnt_month = matrix.item_cnt_month.astype('int16')\n",
    "matrix.item_id = matrix.item_id.astype('int16')\n",
    "matrix.shop_id = matrix.shop_id.astype('int16')\n",
    "matrix.item_category_id = matrix.item_category_id.astype('float16')\n",
    "matrix.days_per_month = matrix.days_per_month.astype('float16')\n",
    "matrix.item_cat_level1 = matrix.item_cat_level1.astype('float16')\n",
    "matrix.item_cat_level2 = matrix.item_cat_level2.astype('float16')\n"
   ]
  },
  {
   "cell_type": "code",
   "execution_count": null,
   "metadata": {
    "ExecuteTime": {
     "end_time": "2019-04-28T07:15:26.923876Z",
     "start_time": "2019-04-28T07:15:12.093Z"
    }
   },
   "outputs": [],
   "source": [
    "# construct item_id, shop_id sales matrix\n",
    "sales_matrix = matrix.groupby(['item_id', 'shop_id'])['item_cnt_month'].sum().unstack('shop_id')\n",
    "\n",
    "shop_id_sales_me_na = sales_matrix.mean(axis=0)\n",
    "shop_id_sales_me_z = sales_matrix.fillna(0).mean(axis=0)\n",
    "item_id_sales_me_na = sales_matrix.mean(axis=1)\n",
    "item_id_sales_me_z = sales_matrix.fillna(0).mean(axis=1)\n",
    "\n",
    "\n",
    "# mean encoding for shop id based on sales\n",
    "matrix['m_shop_id_sales_me_na'] = matrix['shop_id'].map(shop_id_sales_me_na)\n",
    "matrix['m_shop_id_sales_me_z'] = matrix['shop_id'].map(shop_id_sales_me_z)\n",
    "\n",
    "# mean encoding for item_id based on sales\n",
    "matrix['m_item_id_sales_me_na'] = matrix['item_id'].map(item_id_sales_me_na)\n",
    "matrix['m_item_id_sales_me_z'] = matrix['item_id'].map(item_id_sales_me_z)\n",
    "\n",
    "del sales_matrix\n",
    "del shop_id_sales_me_na\n",
    "del shop_id_sales_me_z\n",
    "del item_id_sales_me_na\n",
    "del item_id_sales_me_z"
   ]
  },
  {
   "cell_type": "code",
   "execution_count": null,
   "metadata": {
    "ExecuteTime": {
     "end_time": "2019-04-28T07:15:26.924846Z",
     "start_time": "2019-04-28T07:15:12.949Z"
    }
   },
   "outputs": [],
   "source": [
    "def lag_feature(df, lags, col):\n",
    "    tmp = df[['date_block_num','shop_id','item_id',col]]\n",
    "    for i in lags:\n",
    "        shifted = tmp.copy()\n",
    "        shifted.columns = ['date_block_num','shop_id','item_id', col+'_lag_'+str(i)]\n",
    "        shifted['date_block_num'] += i\n",
    "        df = pd.merge(df, shifted, on=['date_block_num','shop_id','item_id'], how='left')\n",
    "    return df"
   ]
  },
  {
   "cell_type": "code",
   "execution_count": null,
   "metadata": {
    "ExecuteTime": {
     "end_time": "2019-04-28T07:15:26.924846Z",
     "start_time": "2019-04-28T07:15:14.981Z"
    }
   },
   "outputs": [],
   "source": [
    "matrix = lag_feature(matrix, [1], 'item_cnt_month')"
   ]
  },
  {
   "cell_type": "code",
   "execution_count": null,
   "metadata": {
    "ExecuteTime": {
     "end_time": "2019-04-28T07:15:26.926847Z",
     "start_time": "2019-04-28T07:15:16.293Z"
    }
   },
   "outputs": [],
   "source": [
    "group = matrix.groupby(['date_block_num', 'shop_id'], as_index=False)['item_cnt_month'].mean()\n",
    "group.columns = ['date_block_num', 'shop_id', 'mean_shop_sales']\n",
    "matrix = pd.merge(matrix, group, left_on = ['date_block_num', 'shop_id'], right_on=['date_block_num', 'shop_id'], how='left')\n",
    "print (matrix.shape)\n",
    "\n",
    "matrix = lag_feature(matrix, [1,2,3], 'mean_shop_sales')\n",
    "print (matrix.shape)"
   ]
  },
  {
   "cell_type": "code",
   "execution_count": null,
   "metadata": {
    "ExecuteTime": {
     "end_time": "2019-04-28T07:15:26.926847Z",
     "start_time": "2019-04-28T07:15:17.109Z"
    }
   },
   "outputs": [],
   "source": [
    "group = matrix.groupby(['date_block_num', 'item_category_id'], as_index=False)['item_cnt_month'].mean()\n",
    "group.columns = ['date_block_num', 'item_category_id', 'mean_item_cat_sales']\n",
    "matrix = pd.merge(matrix, group, left_on = ['date_block_num', 'item_category_id'], right_on=['date_block_num', 'item_category_id'], how='left')\n",
    "print (matrix.shape)\n",
    "\n",
    "matrix = lag_feature(matrix, [1], 'mean_item_cat_sales')\n",
    "print (matrix.shape)"
   ]
  },
  {
   "cell_type": "code",
   "execution_count": null,
   "metadata": {
    "ExecuteTime": {
     "end_time": "2019-04-28T07:15:26.927847Z",
     "start_time": "2019-04-28T07:15:17.869Z"
    }
   },
   "outputs": [],
   "source": [
    "group = matrix.groupby(['date_block_num', 'item_id'], as_index=False)['item_cnt_month'].mean()\n",
    "group.columns = ['date_block_num', 'item_id', 'mean_item_sales']\n",
    "matrix = pd.merge(matrix, group, left_on = ['date_block_num', 'item_id'], right_on=['date_block_num', 'item_id'], how='left')\n",
    "print (matrix.shape)\n",
    "\n",
    "matrix = lag_feature(matrix, [1,2,3], 'mean_item_sales')\n",
    "print (matrix.shape)"
   ]
  },
  {
   "cell_type": "code",
   "execution_count": null,
   "metadata": {
    "ExecuteTime": {
     "end_time": "2019-04-28T07:15:26.928847Z",
     "start_time": "2019-04-28T07:15:19.045Z"
    }
   },
   "outputs": [],
   "source": [
    "group = matrix.groupby(['date_block_num', 'item_id', 'shop_city'], as_index=False)['item_cnt_month'].mean()\n",
    "group.columns = ['date_block_num', 'item_id', 'shop_city', 'mean_item_city_sales']\n",
    "matrix = pd.merge(matrix, group, left_on = ['date_block_num', 'item_id', 'shop_city'], right_on=['date_block_num', 'item_id', 'shop_city'], how='left')\n",
    "print (matrix.shape)\n",
    "\n",
    "matrix = lag_feature(matrix, [1], 'mean_item_city_sales')\n",
    "print (matrix.shape)"
   ]
  },
  {
   "cell_type": "code",
   "execution_count": null,
   "metadata": {
    "ExecuteTime": {
     "end_time": "2019-04-28T07:15:26.928847Z",
     "start_time": "2019-04-28T07:15:19.413Z"
    }
   },
   "outputs": [],
   "source": [
    "group = matrix.groupby(['date_block_num', 'item_id', 'shop_type'], as_index=False)['item_cnt_month'].mean()\n",
    "group.columns = ['date_block_num', 'item_id', 'shop_type', 'mean_item_shop_type_sales']\n",
    "matrix = pd.merge(matrix, group, left_on = ['date_block_num', 'item_id', 'shop_type'], right_on=['date_block_num', 'item_id', 'shop_type'], how='left')\n",
    "print (matrix.shape)\n",
    "\n",
    "matrix = lag_feature(matrix, [1], 'mean_item_shop_type_sales')\n",
    "print (matrix.shape)"
   ]
  },
  {
   "cell_type": "code",
   "execution_count": null,
   "metadata": {
    "ExecuteTime": {
     "end_time": "2019-04-28T04:36:19.735970Z",
     "start_time": "2019-04-28T04:35:53.173820Z"
    }
   },
   "outputs": [],
   "source": [
    "group = matrix.groupby(['date_block_num', 'item_id', 'shop_lname'], as_index=False)['item_cnt_month'].mean()\n",
    "group.columns = ['date_block_num', 'item_id', 'shop_lname', 'mean_item_shop_lname_sales']\n",
    "matrix = pd.merge(matrix, group, left_on = ['date_block_num', 'item_id', 'shop_lname'], right_on=['date_block_num', 'item_id', 'shop_lname'], how='left')\n",
    "print (matrix.shape)\n",
    "\n",
    "matrix = lag_feature(matrix, [1], 'mean_item_shop_lname_sales')\n",
    "print (matrix.shape)"
   ]
  },
  {
   "cell_type": "code",
   "execution_count": null,
   "metadata": {
    "ExecuteTime": {
     "end_time": "2019-04-28T04:36:54.952996Z",
     "start_time": "2019-04-28T04:36:19.736970Z"
    }
   },
   "outputs": [],
   "source": [
    "group = matrix.groupby(['date_block_num', 'shop_id', 'shop_city'], as_index=False)['item_cnt_month'].mean()\n",
    "group.columns = ['date_block_num', 'shop_id', 'shop_city', 'mean_shop_city_sales']\n",
    "matrix = pd.merge(matrix, group, left_on = ['date_block_num', 'shop_id', 'shop_city'], right_on=['date_block_num', 'shop_id', 'shop_city'], how='left')\n",
    "print (matrix.shape)\n",
    "\n",
    "matrix = lag_feature(matrix, [1,2,3], 'mean_shop_city_sales')\n",
    "print (matrix.shape)"
   ]
  },
  {
   "cell_type": "code",
   "execution_count": null,
   "metadata": {
    "ExecuteTime": {
     "end_time": "2019-04-28T04:37:14.644438Z",
     "start_time": "2019-04-28T04:36:54.953969Z"
    }
   },
   "outputs": [],
   "source": [
    "group = matrix.groupby(['date_block_num', 'shop_type'], as_index=False)['item_cnt_month'].mean()\n",
    "group.columns = ['date_block_num', 'shop_type', 'mean_shop_type_sales']\n",
    "matrix = pd.merge(matrix, group, left_on = ['date_block_num', 'shop_type'], right_on=['date_block_num', 'shop_type'], how='left')\n",
    "print (matrix.shape)\n",
    "\n",
    "matrix = lag_feature(matrix, [1], 'mean_shop_type_sales')\n",
    "print (matrix.shape)"
   ]
  },
  {
   "cell_type": "code",
   "execution_count": null,
   "metadata": {
    "ExecuteTime": {
     "end_time": "2019-04-28T04:37:34.565476Z",
     "start_time": "2019-04-28T04:37:14.645437Z"
    }
   },
   "outputs": [],
   "source": [
    "group = matrix.groupby(['date_block_num', 'shop_lname'], as_index=False)['item_cnt_month'].mean()\n",
    "group.columns = ['date_block_num', 'shop_lname', 'mean_shop_lname_sales']\n",
    "matrix = pd.merge(matrix, group, left_on = ['date_block_num', 'shop_lname'], right_on=['date_block_num', 'shop_lname'], how='left')\n",
    "print (matrix.shape)\n",
    "\n",
    "matrix = lag_feature(matrix, [1], 'mean_shop_lname_sales')\n",
    "print (matrix.shape)"
   ]
  },
  {
   "cell_type": "code",
   "execution_count": null,
   "metadata": {
    "ExecuteTime": {
     "end_time": "2019-04-28T04:37:38.864510Z",
     "start_time": "2019-04-28T04:37:34.567445Z"
    }
   },
   "outputs": [],
   "source": [
    "matrix.drop(['shop_name', 'item_name', 'item_category_name'], axis=1, inplace=True)"
   ]
  },
  {
   "cell_type": "code",
   "execution_count": null,
   "metadata": {
    "ExecuteTime": {
     "end_time": "2019-04-28T04:37:38.868508Z",
     "start_time": "2019-04-28T04:37:38.865478Z"
    }
   },
   "outputs": [],
   "source": [
    "#matrix = matrix[matrix.date_block_num > 11]"
   ]
  },
  {
   "cell_type": "code",
   "execution_count": null,
   "metadata": {},
   "outputs": [],
   "source": [
    "matrix.head()"
   ]
  },
  {
   "cell_type": "code",
   "execution_count": null,
   "metadata": {
    "ExecuteTime": {
     "end_time": "2019-04-28T04:37:44.324517Z",
     "start_time": "2019-04-28T04:37:38.869480Z"
    }
   },
   "outputs": [],
   "source": [
    "def fill_na(df):\n",
    "    for col in df.columns:\n",
    "        if ('_lag_' in col) & (df[col].isnull().any()):\n",
    "            if ('item_cnt' in col):\n",
    "                df[col].fillna(0, inplace=True)\n",
    "        else:\n",
    "            \n",
    "            df[col].fillna(df[col].mean(), inplace=True)\n",
    "    return df\n",
    "\n",
    "tmp = fill_na(matrix)"
   ]
  },
  {
   "cell_type": "code",
   "execution_count": null,
   "metadata": {
    "ExecuteTime": {
     "end_time": "2019-04-28T06:04:47.215957Z",
     "start_time": "2019-04-28T06:04:41.004929Z"
    }
   },
   "outputs": [],
   "source": [
    "X_train = matrix[ (matrix.date_block_num < 33)].drop(['item_cnt_month'], axis=1)\n",
    "Y_train = matrix[ (matrix.date_block_num < 33)]['item_cnt_month']\n",
    "\n",
    "\n",
    "X_valid = matrix[(matrix.date_block_num == 33) ].drop(['item_cnt_month'], axis=1)\n",
    "Y_valid = matrix[(matrix.date_block_num == 33) ]['item_cnt_month']\n",
    "\n",
    "\n",
    "X_test = matrix[matrix.date_block_num == 34].drop(['item_cnt_month'], axis=1)"
   ]
  },
  {
   "cell_type": "code",
   "execution_count": null,
   "metadata": {},
   "outputs": [],
   "source": [
    "X_train.shape"
   ]
  },
  {
   "cell_type": "code",
   "execution_count": null,
   "metadata": {},
   "outputs": [],
   "source": [
    "X_test.shape"
   ]
  },
  {
   "cell_type": "code",
   "execution_count": null,
   "metadata": {
    "ExecuteTime": {
     "end_time": "2019-04-28T06:04:41.002956Z",
     "start_time": "2019-04-28T04:37:49.156522Z"
    },
    "scrolled": false
   },
   "outputs": [],
   "source": [
    "model = XGBRegressor(\n",
    "    max_depth=5,\n",
    "    n_estimators=1000,\n",
    "    min_child_weight=0.5, \n",
    "    colsample_bytree=0.8, \n",
    "    subsample=0.8,\n",
    "    eta=0.3,\n",
    "    reg_lambda=1,\n",
    "    seed=42)\n",
    "\n",
    "model.fit(\n",
    "    X_train, \n",
    "    Y_train, \n",
    "    eval_metric=\"rmse\", \n",
    "    eval_set=[(X_train, Y_train), (X_valid, Y_valid)], \n",
    "    verbose=True, \n",
    "    early_stopping_rounds = 5)\n"
   ]
  },
  {
   "cell_type": "code",
   "execution_count": null,
   "metadata": {},
   "outputs": [],
   "source": [
    "if pd.Series(Y_test).max() < 5:\n",
    "    print ('something wrong going on with the data you have')"
   ]
  },
  {
   "cell_type": "code",
   "execution_count": null,
   "metadata": {
    "ExecuteTime": {
     "end_time": "2019-04-28T06:04:47.948930Z",
     "start_time": "2019-04-28T06:04:47.218954Z"
    }
   },
   "outputs": [],
   "source": [
    "def plot_features(booster, figsize):    \n",
    "    fig, ax = plt.subplots(1,1,figsize=figsize)\n",
    "    return plot_importance(booster=booster, ax=ax)\n",
    "\n",
    "plot_features(model, (10,14))\n"
   ]
  },
  {
   "cell_type": "code",
   "execution_count": null,
   "metadata": {
    "ExecuteTime": {
     "end_time": "2019-04-28T06:18:39.367530Z",
     "start_time": "2019-04-28T06:18:36.489498Z"
    }
   },
   "outputs": [],
   "source": [
    "Y_pred = model.predict(X_valid).clip(0,20)\n",
    "Y_test = model.predict(X_test).clip(0,20)\n",
    "\n",
    "submission = pd.DataFrame({\n",
    "    \"ID\": test.index, \n",
    "    \"item_cnt_month\": Y_test\n",
    "})\n",
    "submission.to_csv('xgb_submission_mine.csv', index=False)"
   ]
  },
  {
   "cell_type": "code",
   "execution_count": null,
   "metadata": {},
   "outputs": [],
   "source": [
    "Y_train.describe()"
   ]
  },
  {
   "cell_type": "code",
   "execution_count": null,
   "metadata": {
    "ExecuteTime": {
     "end_time": "2019-04-26T21:37:48.949260Z",
     "start_time": "2019-04-26T21:37:48.941259Z"
    }
   },
   "outputs": [],
   "source": []
  },
  {
   "cell_type": "code",
   "execution_count": null,
   "metadata": {
    "ExecuteTime": {
     "end_time": "2019-04-26T21:37:11.882259Z",
     "start_time": "2019-04-26T21:37:11.878259Z"
    }
   },
   "outputs": [],
   "source": [
    "pd.Series(Y_pred).mean()"
   ]
  },
  {
   "cell_type": "code",
   "execution_count": null,
   "metadata": {
    "ExecuteTime": {
     "end_time": "2019-04-26T23:44:13.553410Z",
     "start_time": "2019-04-26T23:44:11.391411Z"
    }
   },
   "outputs": [],
   "source": [
    "from fastai.tabular import *\n",
    "import pandas as pd\n",
    "from fastai.datasets import *"
   ]
  },
  {
   "cell_type": "code",
   "execution_count": null,
   "metadata": {
    "ExecuteTime": {
     "end_time": "2019-04-26T23:44:13.565410Z",
     "start_time": "2019-04-26T23:44:13.554410Z"
    }
   },
   "outputs": [],
   "source": [
    "cat_names = ['item_id', \n",
    "            'shop_id', \n",
    "            'city', 'shop_type',\n",
    "            'shop_lname', \n",
    "            'item_category_id', \n",
    "            'item_cat_level1', \n",
    "            'item_cat_level2']\n",
    "    \n",
    "cont_names = ['date_block_num',  \n",
    "            'month', \n",
    "            'days_per_month', \n",
    "            'm_shop_id_sales_me_na',\n",
    "            'm_shop_id_sales_me_z',\n",
    "            'm_item_id_sales_me_na', \n",
    "            'm_item_id_sales_me_z',\n",
    "            'item_cnt_month_lag_1',\n",
    "            'mean_shop_sales', \n",
    "            'mean_shop_sales_lag_1',\n",
    "            'mean_shop_sales_lag_2', \n",
    "            'mean_shop_sales_lag_3', \n",
    "            'mean_item_cat_sales',\n",
    "            'mean_item_cat_sales_lag_1', \n",
    "            'mean_item_sales', \n",
    "            'mean_item_sales_lag_1',\n",
    "            'mean_item_sales_lag_2', \n",
    "            'mean_item_sales_lag_3',\n",
    "            'mean_item_city_sales', \n",
    "            'mean_item_city_sales_lag_1',\n",
    "            'mean_item_shop_type_sales', \n",
    "            'mean_item_shop_type_sales_lag_1',\n",
    "            'mean_item_shop_lname_sales', \n",
    "            'mean_item_shop_lname_sales_lag_1',\n",
    "            'mean_shop_city_sales', \n",
    "            'mean_shop_city_sales_lag_1',\n",
    "            'mean_shop_city_sales_lag_2', \n",
    "            'mean_shop_city_sales_lag_3',\n",
    "            'mean_shop_type_sales', \n",
    "            'mean_shop_type_sales_lag_1',\n",
    "            'mean_shop_lname_sales', \n",
    "            'mean_shop_lname_sales_lag_1']\n",
    "\n"
   ]
  },
  {
   "cell_type": "code",
   "execution_count": null,
   "metadata": {
    "ExecuteTime": {
     "end_time": "2019-04-26T23:44:13.584410Z",
     "start_time": "2019-04-26T23:44:13.568411Z"
    }
   },
   "outputs": [],
   "source": [
    "bs = 64\n",
    "procs = [FillMissing, Categorify, Normalize]"
   ]
  },
  {
   "cell_type": "code",
   "execution_count": null,
   "metadata": {
    "ExecuteTime": {
     "end_time": "2019-04-26T23:44:13.997409Z",
     "start_time": "2019-04-26T23:44:13.586411Z"
    }
   },
   "outputs": [],
   "source": [
    "X_train['label'] = Y_train\n",
    "X_valid['label'] = Y_valid\n",
    "df = pd.concat([X_train, X_valid], axis=0)"
   ]
  },
  {
   "cell_type": "code",
   "execution_count": null,
   "metadata": {
    "ExecuteTime": {
     "end_time": "2019-04-26T23:44:14.003410Z",
     "start_time": "2019-04-26T23:44:13.999411Z"
    }
   },
   "outputs": [],
   "source": [
    "df.shape[0]"
   ]
  },
  {
   "cell_type": "code",
   "execution_count": null,
   "metadata": {
    "ExecuteTime": {
     "end_time": "2019-04-26T23:44:14.069410Z",
     "start_time": "2019-04-26T23:44:14.004411Z"
    }
   },
   "outputs": [],
   "source": [
    "test = TabularList.from_df(X_test, path='.', cat_names=cat_names, cont_names=cont_names)"
   ]
  },
  {
   "cell_type": "code",
   "execution_count": null,
   "metadata": {
    "ExecuteTime": {
     "end_time": "2019-04-26T23:44:14.075410Z",
     "start_time": "2019-04-26T23:44:14.070411Z"
    }
   },
   "outputs": [],
   "source": [
    "X_test.reset_index(inplace=True)"
   ]
  },
  {
   "cell_type": "code",
   "execution_count": null,
   "metadata": {
    "ExecuteTime": {
     "end_time": "2019-04-26T23:44:14.688410Z",
     "start_time": "2019-04-26T23:44:14.666411Z"
    }
   },
   "outputs": [],
   "source": [
    "from fastai import *\n",
    "doc(FloatList)"
   ]
  },
  {
   "cell_type": "code",
   "execution_count": null,
   "metadata": {
    "ExecuteTime": {
     "end_time": "2019-04-26T23:44:19.395412Z",
     "start_time": "2019-04-26T23:44:19.390411Z"
    }
   },
   "outputs": [],
   "source": [
    "X_train.shape[0]"
   ]
  },
  {
   "cell_type": "code",
   "execution_count": null,
   "metadata": {
    "ExecuteTime": {
     "end_time": "2019-04-26T23:44:20.918410Z",
     "start_time": "2019-04-26T23:44:20.914411Z"
    }
   },
   "outputs": [],
   "source": [
    "df.shape[0]"
   ]
  },
  {
   "cell_type": "code",
   "execution_count": null,
   "metadata": {
    "ExecuteTime": {
     "end_time": "2019-04-26T23:44:51.100922Z",
     "start_time": "2019-04-26T23:44:21.514411Z"
    }
   },
   "outputs": [],
   "source": [
    "data = (TabularList.from_df(df, path='.', cat_names=cat_names, cont_names=cont_names, procs=procs,)\n",
    "                .split_by_idx(list(range(X_train.shape[0],df.shape[0])))\n",
    "                .label_from_df(cols='label', label_cls=FloatList, log=True)\n",
    "                .add_test(test)\n",
    "                .databunch())"
   ]
  },
  {
   "cell_type": "code",
   "execution_count": null,
   "metadata": {
    "ExecuteTime": {
     "end_time": "2019-04-26T23:46:49.565951Z",
     "start_time": "2019-04-26T23:44:51.102922Z"
    }
   },
   "outputs": [],
   "source": [
    "data.show_batch(rows=10)"
   ]
  },
  {
   "cell_type": "code",
   "execution_count": null,
   "metadata": {
    "ExecuteTime": {
     "end_time": "2019-04-26T23:46:49.571953Z",
     "start_time": "2019-04-26T23:46:49.567953Z"
    }
   },
   "outputs": [],
   "source": [
    "defaults.device"
   ]
  },
  {
   "cell_type": "code",
   "execution_count": null,
   "metadata": {
    "ExecuteTime": {
     "end_time": "2019-04-26T23:46:49.612951Z",
     "start_time": "2019-04-26T23:46:49.575953Z"
    }
   },
   "outputs": [],
   "source": [
    "max_log_y = np.log(np.max(df['label']))\n",
    "y_range = torch.tensor([0, max_log_y], device=defaults.device)"
   ]
  },
  {
   "cell_type": "code",
   "execution_count": null,
   "metadata": {
    "ExecuteTime": {
     "end_time": "2019-04-26T23:46:50.143951Z",
     "start_time": "2019-04-26T23:46:49.614952Z"
    }
   },
   "outputs": [],
   "source": [
    "learn = tabular_learner(data, layers=[1000,500], ps=[0.001,0.01], emb_drop=0.04, \n",
    "                        y_range=y_range, metrics=exp_rmspe)"
   ]
  },
  {
   "cell_type": "code",
   "execution_count": null,
   "metadata": {
    "ExecuteTime": {
     "end_time": "2019-04-27T00:05:02.862298Z",
     "start_time": "2019-04-26T23:47:52.269467Z"
    }
   },
   "outputs": [],
   "source": [
    "learn.fit(1, 1e-2)"
   ]
  },
  {
   "cell_type": "code",
   "execution_count": null,
   "metadata": {
    "ExecuteTime": {
     "end_time": "2019-04-26T23:47:43.436466Z",
     "start_time": "2019-04-26T23:47:43.422466Z"
    }
   },
   "outputs": [],
   "source": [
    "import torch \n",
    "device = torch.device('cuda' if torch.cuda.is_available() else 'cpu')\n",
    "print('Using device:', device)\n",
    "print()\n",
    "\n",
    "#Additional Info when using cuda\n",
    "if device.type == 'cuda':\n",
    "    print(torch.cuda.get_device_name(0))\n",
    "    print('Memory Usage:')\n",
    "    print('Allocated:', round(torch.cuda.memory_allocated(0)/1024**3,1), 'GB')\n",
    "    print('Cached:   ', round(torch.cuda.memory_cached(0)/1024**3,1), 'GB')"
   ]
  },
  {
   "cell_type": "code",
   "execution_count": null,
   "metadata": {
    "ExecuteTime": {
     "end_time": "2019-04-26T22:16:16.334557Z",
     "start_time": "2019-04-26T22:16:16.295556Z"
    }
   },
   "outputs": [],
   "source": [
    "!which python"
   ]
  },
  {
   "cell_type": "code",
   "execution_count": null,
   "metadata": {
    "ExecuteTime": {
     "end_time": "2019-04-26T22:16:23.746558Z",
     "start_time": "2019-04-26T22:16:23.496557Z"
    }
   },
   "outputs": [],
   "source": [
    "!where python"
   ]
  },
  {
   "cell_type": "code",
   "execution_count": null,
   "metadata": {
    "ExecuteTime": {
     "end_time": "2019-04-28T07:14:56.199695Z",
     "start_time": "2019-04-28T07:14:56.048697Z"
    }
   },
   "outputs": [],
   "source": [
    "X_test.head()"
   ]
  },
  {
   "cell_type": "code",
   "execution_count": null,
   "metadata": {},
   "outputs": [],
   "source": []
  }
 ],
 "metadata": {
  "kernelspec": {
   "display_name": "Python 3",
   "language": "python",
   "name": "python3"
  },
  "language_info": {
   "codemirror_mode": {
    "name": "ipython",
    "version": 3
   },
   "file_extension": ".py",
   "mimetype": "text/x-python",
   "name": "python",
   "nbconvert_exporter": "python",
   "pygments_lexer": "ipython3",
   "version": "3.7.3"
  }
 },
 "nbformat": 4,
 "nbformat_minor": 2
}
