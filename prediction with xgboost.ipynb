{
 "cells": [
  {
   "cell_type": "code",
   "execution_count": null,
   "metadata": {
    "ExecuteTime": {
     "end_time": "2019-04-22T08:26:45.568545Z",
     "start_time": "2019-04-22T08:26:45.562546Z"
    }
   },
   "outputs": [],
   "source": [
    "import numpy as np\n",
    "import pandas as pd\n",
    "import scipy\n",
    "import xgboost as xgb\n",
    "import matplotlib.pyplot as plt\n",
    "import seaborn as sns\n",
    "from sklearn.ensemble import RandomForestClassifier\n",
    "from scipy.optimize import curve_fit\n",
    "from fbprophet import Prophet\n",
    "from fbprophet import Prophet\n",
    "from scipy.stats import boxcox\n",
    "from multiprocessing import Pool, cpu_count\n",
    "import tqdm\n",
    "from xgboost import XGBRegressor\n",
    "from xgboost import plot_importance\n",
    "from gensim.models import Word2Vec \n",
    "sns.set(style=\"darkgrid\")\n",
    "\n",
    "%matplotlib inline"
   ]
  },
  {
   "cell_type": "code",
   "execution_count": null,
   "metadata": {
    "ExecuteTime": {
     "end_time": "2019-04-22T08:26:47.138385Z",
     "start_time": "2019-04-22T08:26:45.993392Z"
    }
   },
   "outputs": [],
   "source": [
    "items = pd.read_csv('items.csv')\n",
    "item_cat = pd.read_csv('item_categories.csv')\n",
    "shops = pd.read_csv('shops.csv')\n",
    "sales_tr = pd.read_csv('sales_train_v2.csv')\n",
    "test_df = pd.read_csv('test.csv')"
   ]
  },
  {
   "cell_type": "code",
   "execution_count": null,
   "metadata": {
    "ExecuteTime": {
     "end_time": "2019-04-22T08:22:00.809053Z",
     "start_time": "2019-04-22T08:21:59.916025Z"
    }
   },
   "outputs": [],
   "source": [
    "print ('shops in train not in test is', set(sales_tr['shop_id']) - set(test_df['shop_id']))\n",
    "print ('shops in test not in train is ', set(test_df['shop_id']) - set(sales_tr['shop_id']))\n",
    "\n",
    "val1 = set(sales_tr['item_id']) - set(test_df['item_id'])\n",
    "val2 = set(test_df['item_id']) - set(sales_tr['item_id'])\n",
    "print ('items in train not in test is', list(val1)[:10])\n",
    "print ('count of items in train not in test is', len(list(val1)))\n",
    "print ('count of items in test not in train is', len(list(val2)))\n"
   ]
  },
  {
   "cell_type": "code",
   "execution_count": null,
   "metadata": {
    "ExecuteTime": {
     "end_time": "2019-04-22T08:22:00.815038Z",
     "start_time": "2019-04-22T08:22:00.811023Z"
    }
   },
   "outputs": [],
   "source": [
    "days_per_month = pd.Series({0:31, 1:28, 2: 31, 3: 30, 4: 31, 5: 30, 6: 31, 7: 31, 8: 30, 9: 31, 10: 30, 11: 30})"
   ]
  },
  {
   "cell_type": "code",
   "execution_count": null,
   "metadata": {
    "ExecuteTime": {
     "end_time": "2019-04-22T08:22:01.077052Z",
     "start_time": "2019-04-22T08:22:00.817022Z"
    }
   },
   "outputs": [],
   "source": [
    "sales_tr.head()\n",
    "sales_tr = sales_tr[sales_tr['item_price'] < 10000]\n",
    "sales_tr = sales_tr[sales_tr['item_cnt_day'] < 600]"
   ]
  },
  {
   "cell_type": "code",
   "execution_count": null,
   "metadata": {
    "ExecuteTime": {
     "end_time": "2019-04-22T08:22:01.387056Z",
     "start_time": "2019-04-22T08:22:01.078022Z"
    }
   },
   "outputs": [],
   "source": [
    "sales_tr.loc[sales_tr.shop_id == 0, 'shop_id'] = 57\n",
    "test_df.loc[test_df.shop_id == 0, 'shop_id'] = 57\n",
    "# Якутск ТЦ \"Центральный\"\n",
    "sales_tr.loc[sales_tr.shop_id == 1, 'shop_id'] = 58\n",
    "test_df.loc[test_df.shop_id == 1, 'shop_id'] = 58\n",
    "# Жуковский ул. Чкалова 39м²\n",
    "sales_tr.loc[sales_tr.shop_id == 10, 'shop_id'] = 11\n",
    "test_df.loc[test_df.shop_id == 10, 'shop_id'] = 11"
   ]
  },
  {
   "cell_type": "code",
   "execution_count": null,
   "metadata": {
    "ExecuteTime": {
     "end_time": "2019-04-22T08:22:04.563049Z",
     "start_time": "2019-04-22T08:22:01.388022Z"
    }
   },
   "outputs": [],
   "source": [
    "matrix = sales_tr.groupby(['date_block_num', 'item_id', 'shop_id'], as_index=False).agg({'item_price': {'mean_price': 'mean', 'count_prices': 'count'}, 'item_cnt_day': 'sum'})\n",
    "matrix.columns = ['date_block_num', 'item_id', 'shop_id', 'mean_price', 'count_prices', 'item_cnt_month']\n",
    "matrix.loc[matrix['item_cnt_month'] < 0, 'item_cnt_month'] = 0\n",
    "matrix['ID'] = -1\n"
   ]
  },
  {
   "cell_type": "code",
   "execution_count": null,
   "metadata": {
    "ExecuteTime": {
     "end_time": "2019-04-22T00:56:04.035079Z",
     "start_time": "2019-04-22T00:56:04.010044Z"
    }
   },
   "outputs": [],
   "source": []
  },
  {
   "cell_type": "code",
   "execution_count": null,
   "metadata": {
    "ExecuteTime": {
     "end_time": "2019-04-22T08:22:04.570044Z",
     "start_time": "2019-04-22T08:22:04.565039Z"
    }
   },
   "outputs": [],
   "source": [
    "matrix.shape"
   ]
  },
  {
   "cell_type": "code",
   "execution_count": null,
   "metadata": {
    "ExecuteTime": {
     "end_time": "2019-04-22T08:22:04.581031Z",
     "start_time": "2019-04-22T08:22:04.572029Z"
    }
   },
   "outputs": [],
   "source": [
    "test_df['item_cnt_month'] = 0\n",
    "test_df['date_block_num'] = 34"
   ]
  },
  {
   "cell_type": "code",
   "execution_count": null,
   "metadata": {
    "ExecuteTime": {
     "end_time": "2019-04-22T08:22:04.590026Z",
     "start_time": "2019-04-22T08:22:04.582023Z"
    }
   },
   "outputs": [],
   "source": [
    "test_df.shape"
   ]
  },
  {
   "cell_type": "code",
   "execution_count": null,
   "metadata": {
    "ExecuteTime": {
     "end_time": "2019-04-22T08:22:04.761052Z",
     "start_time": "2019-04-22T08:22:04.592025Z"
    }
   },
   "outputs": [],
   "source": [
    "matrix = pd.concat([matrix, test_df], axis=0, sort=True)"
   ]
  },
  {
   "cell_type": "code",
   "execution_count": null,
   "metadata": {
    "ExecuteTime": {
     "end_time": "2019-04-22T08:22:04.766020Z",
     "start_time": "2019-04-22T08:22:04.762023Z"
    }
   },
   "outputs": [],
   "source": [
    "matrix.shape"
   ]
  },
  {
   "cell_type": "code",
   "execution_count": null,
   "metadata": {},
   "outputs": [],
   "source": []
  },
  {
   "cell_type": "code",
   "execution_count": null,
   "metadata": {
    "ExecuteTime": {
     "end_time": "2019-04-22T08:22:04.779051Z",
     "start_time": "2019-04-22T08:22:04.767023Z"
    }
   },
   "outputs": [],
   "source": [
    "shops = shops.sort_values(by=['shop_name'])\n",
    "shops['city'] = shops['shop_name'].str.split(' ').str.get(0)\n",
    "shops.loc[(shops['city'] == u'!Якутск'), 'city'] = u'Якутск'\n",
    "shops['city'] = shops['city'].factorize()[0]"
   ]
  },
  {
   "cell_type": "code",
   "execution_count": null,
   "metadata": {
    "ExecuteTime": {
     "end_time": "2019-04-22T08:22:04.792051Z",
     "start_time": "2019-04-22T08:22:04.780022Z"
    }
   },
   "outputs": [],
   "source": [
    "item_cat = item_cat.sort_values(by=['item_category_name'])\n",
    "item_cat['item_cat_level1'] = item_cat['item_category_name'].str.split('-').str.get(0)\n",
    "item_cat['item_cat_level1'] = item_cat['item_cat_level1'].factorize()[0]\n",
    "\n",
    "item_cat['item_cat_level2'] = item_cat['item_category_name'].str.split('-').str.get(1)\n",
    "item_cat['item_cat_level2'] = item_cat['item_cat_level2'].factorize()[0]\n",
    "\n",
    "item_cat['item_category_name'] = item_cat['item_category_name'].factorize()[0]"
   ]
  },
  {
   "cell_type": "code",
   "execution_count": null,
   "metadata": {
    "ExecuteTime": {
     "end_time": "2019-04-22T08:22:04.803050Z",
     "start_time": "2019-04-22T08:22:04.793022Z"
    }
   },
   "outputs": [],
   "source": [
    "matrix.shape"
   ]
  },
  {
   "cell_type": "code",
   "execution_count": null,
   "metadata": {
    "ExecuteTime": {
     "end_time": "2019-04-22T08:22:05.928060Z",
     "start_time": "2019-04-22T08:22:04.804024Z"
    }
   },
   "outputs": [],
   "source": [
    "print (matrix.shape)\n",
    "\n",
    "matrix = pd.merge(matrix, shops, left_on='shop_id', right_on='shop_id', how='left')\n",
    "print (matrix.shape)\n",
    "matrix = pd.merge(matrix, items, left_on='item_id', right_on='item_id', how='left')\n",
    "print (matrix.shape)\n",
    "matrix = pd.merge(matrix, item_cat, left_on='item_category_id', right_on='item_category_id', how='left')\n",
    "print (matrix.shape)\n",
    "matrix['month'] =  (matrix['date_block_num'])%12\n",
    "matrix['days_per_month'] = matrix['month'].map(days_per_month)"
   ]
  },
  {
   "cell_type": "code",
   "execution_count": null,
   "metadata": {
    "ExecuteTime": {
     "end_time": "2019-04-22T08:22:06.158021Z",
     "start_time": "2019-04-22T08:22:05.929024Z"
    }
   },
   "outputs": [],
   "source": [
    "matrix.info()"
   ]
  },
  {
   "cell_type": "code",
   "execution_count": null,
   "metadata": {
    "ExecuteTime": {
     "end_time": "2019-04-22T08:22:06.568052Z",
     "start_time": "2019-04-22T08:22:06.159024Z"
    }
   },
   "outputs": [],
   "source": [
    "\n",
    "matrix.ID = matrix.ID.astype('int64')\n",
    "matrix.date_block_num = matrix.date_block_num.astype('uint8')\n",
    "matrix.item_cnt_month = matrix.item_cnt_month.astype('int16')\n",
    "matrix.item_id = matrix.item_id.astype('int16')\n",
    "matrix.shop_id = matrix.shop_id.astype('int16')\n",
    "matrix.item_category_id = matrix.item_category_id.astype('float16')\n",
    "matrix.days_per_month = matrix.days_per_month.astype('float16')\n",
    "matrix.item_cat_level1 = matrix.item_cat_level1.astype('float16')\n",
    "matrix.item_cat_level2 = matrix.item_cat_level2.astype('float16')\n"
   ]
  },
  {
   "cell_type": "code",
   "execution_count": null,
   "metadata": {
    "ExecuteTime": {
     "end_time": "2019-04-22T08:22:07.249052Z",
     "start_time": "2019-04-22T08:22:06.569022Z"
    }
   },
   "outputs": [],
   "source": [
    "# construct item_id, shop_id sales matrix\n",
    "sales_matrix = matrix.groupby(['item_id', 'shop_id'])['item_cnt_month'].sum().unstack('shop_id')\n",
    "\n",
    "shop_id_sales_me_na = sales_matrix.mean(axis=0)\n",
    "shop_id_sales_me_z = sales_matrix.fillna(0).mean(axis=0)\n",
    "item_id_sales_me_na = sales_matrix.mean(axis=1)\n",
    "item_id_sales_me_z = sales_matrix.fillna(0).mean(axis=1)\n",
    "\n",
    "\n",
    "# mean encoding for shop id based on sales\n",
    "matrix['m_shop_id_sales_me_na'] = matrix['shop_id'].map(shop_id_sales_me_na)\n",
    "matrix['m_shop_id_sales_me_z'] = matrix['shop_id'].map(shop_id_sales_me_z)\n",
    "\n",
    "# mean encoding for item_id based on sales\n",
    "matrix['m_item_id_sales_me_na'] = matrix['item_id'].map(item_id_sales_me_na)\n",
    "matrix['m_item_id_sales_me_z'] = matrix['item_id'].map(item_id_sales_me_z)\n",
    "\n",
    "del sales_matrix\n",
    "del shop_id_sales_me_na\n",
    "del shop_id_sales_me_z\n",
    "del item_id_sales_me_na\n",
    "del item_id_sales_me_z"
   ]
  },
  {
   "cell_type": "code",
   "execution_count": null,
   "metadata": {
    "ExecuteTime": {
     "end_time": "2019-04-22T08:22:07.254022Z",
     "start_time": "2019-04-22T08:22:07.250022Z"
    }
   },
   "outputs": [],
   "source": [
    "def lag_feature(df, lags, col):\n",
    "    tmp = df[['date_block_num','shop_id','item_id',col]]\n",
    "    for i in lags:\n",
    "        shifted = tmp.copy()\n",
    "        shifted.columns = ['date_block_num','shop_id','item_id', col+'_lag_'+str(i)]\n",
    "        shifted['date_block_num'] += i\n",
    "        df = pd.merge(df, shifted, on=['date_block_num','shop_id','item_id'], how='left')\n",
    "    return df"
   ]
  },
  {
   "cell_type": "code",
   "execution_count": null,
   "metadata": {
    "ExecuteTime": {
     "end_time": "2019-04-22T08:22:13.085050Z",
     "start_time": "2019-04-22T08:22:07.256023Z"
    }
   },
   "outputs": [],
   "source": [
    "matrix = lag_feature(matrix, [1,2,3,6,12], 'item_cnt_month')"
   ]
  },
  {
   "cell_type": "code",
   "execution_count": null,
   "metadata": {
    "ExecuteTime": {
     "end_time": "2019-04-22T08:22:13.353021Z",
     "start_time": "2019-04-22T08:22:13.086023Z"
    }
   },
   "outputs": [],
   "source": [
    "matrix.info()"
   ]
  },
  {
   "cell_type": "code",
   "execution_count": null,
   "metadata": {
    "ExecuteTime": {
     "end_time": "2019-04-22T08:22:19.324047Z",
     "start_time": "2019-04-22T08:22:13.356023Z"
    }
   },
   "outputs": [],
   "source": [
    "group = matrix.groupby(['date_block_num', 'shop_id'], as_index=False)['item_cnt_month'].mean()\n",
    "group.columns = ['date_block_num', 'shop_id', 'mean_shop_sales']\n",
    "matrix = pd.merge(matrix, group, left_on = ['date_block_num', 'shop_id'], right_on=['date_block_num', 'shop_id'], how='left')\n",
    "print (matrix.shape)\n",
    "\n",
    "matrix = lag_feature(matrix, [1,2,3,6], 'mean_shop_sales')\n",
    "print (matrix.shape)"
   ]
  },
  {
   "cell_type": "code",
   "execution_count": null,
   "metadata": {
    "ExecuteTime": {
     "end_time": "2019-04-22T08:22:26.512047Z",
     "start_time": "2019-04-22T08:22:19.325032Z"
    }
   },
   "outputs": [],
   "source": [
    "group = matrix.groupby(['date_block_num', 'item_category_id'], as_index=False)['item_cnt_month'].mean()\n",
    "group.columns = ['date_block_num', 'item_category_id', 'mean_item_cat_sales']\n",
    "matrix = pd.merge(matrix, group, left_on = ['date_block_num', 'item_category_id'], right_on=['date_block_num', 'item_category_id'], how='left')\n",
    "print (matrix.shape)\n",
    "\n",
    "matrix = lag_feature(matrix, [1,2,3,6], 'mean_item_cat_sales')\n",
    "print (matrix.shape)"
   ]
  },
  {
   "cell_type": "code",
   "execution_count": null,
   "metadata": {
    "ExecuteTime": {
     "end_time": "2019-04-22T08:22:34.076024Z",
     "start_time": "2019-04-22T08:22:26.513022Z"
    }
   },
   "outputs": [],
   "source": [
    "group = matrix.groupby(['date_block_num', 'item_id'], as_index=False)['item_cnt_month'].mean()\n",
    "group.columns = ['date_block_num', 'item_id', 'mean_item_sales']\n",
    "matrix = pd.merge(matrix, group, left_on = ['date_block_num', 'item_id'], right_on=['date_block_num', 'item_id'], how='left')\n",
    "print (matrix.shape)\n",
    "\n",
    "matrix = lag_feature(matrix, [1,2,3,6], 'mean_item_sales')\n",
    "print (matrix.shape)"
   ]
  },
  {
   "cell_type": "code",
   "execution_count": null,
   "metadata": {
    "ExecuteTime": {
     "end_time": "2019-04-22T08:22:43.047022Z",
     "start_time": "2019-04-22T08:22:34.077031Z"
    }
   },
   "outputs": [],
   "source": [
    "group = matrix.groupby(['date_block_num', 'item_id', 'city'], as_index=False)['item_cnt_month'].mean()\n",
    "group.columns = ['date_block_num', 'item_id', 'city', 'mean_item_city_sales']\n",
    "matrix = pd.merge(matrix, group, left_on = ['date_block_num', 'item_id', 'city'], right_on=['date_block_num', 'item_id', 'city'], how='left')\n",
    "print (matrix.shape)\n",
    "\n",
    "matrix = lag_feature(matrix, [1,2,3,6], 'mean_item_city_sales')\n",
    "print (matrix.shape)"
   ]
  },
  {
   "cell_type": "code",
   "execution_count": null,
   "metadata": {
    "ExecuteTime": {
     "end_time": "2019-04-22T08:22:50.624024Z",
     "start_time": "2019-04-22T08:22:43.048025Z"
    }
   },
   "outputs": [],
   "source": [
    "group = matrix.groupby(['date_block_num', 'shop_id', 'city'], as_index=False)['item_cnt_month'].mean()\n",
    "group.columns = ['date_block_num', 'shop_id', 'city', 'mean_item_shop_sales']\n",
    "matrix = pd.merge(matrix, group, left_on = ['date_block_num', 'shop_id', 'city'], right_on=['date_block_num', 'shop_id', 'city'], how='left')\n",
    "print (matrix.shape)\n",
    "\n",
    "matrix = lag_feature(matrix, [1,2,3,6], 'mean_item_shop_sales')\n",
    "print (matrix.shape)"
   ]
  },
  {
   "cell_type": "code",
   "execution_count": null,
   "metadata": {
    "ExecuteTime": {
     "end_time": "2019-04-22T08:22:50.626022Z",
     "start_time": "2019-04-22T08:22:04.031Z"
    }
   },
   "outputs": [],
   "source": [
    "matrix.drop(['shop_name', 'item_name', 'item_category_name'], axis=1, inplace=True)"
   ]
  },
  {
   "cell_type": "code",
   "execution_count": null,
   "metadata": {
    "ExecuteTime": {
     "end_time": "2019-04-22T08:22:50.627021Z",
     "start_time": "2019-04-22T08:22:05.439Z"
    }
   },
   "outputs": [],
   "source": [
    "def fill_na(df):\n",
    "    for col in df.columns:\n",
    "        if ('_lag_' in col) & (df[col].isnull().any()):\n",
    "            if ('item_cnt' in col):\n",
    "                df[col].fillna(0, inplace=True)         \n",
    "    return df\n",
    "\n",
    "matrix = fill_na(matrix)"
   ]
  },
  {
   "cell_type": "code",
   "execution_count": null,
   "metadata": {
    "ExecuteTime": {
     "end_time": "2019-04-22T08:22:50.628021Z",
     "start_time": "2019-04-22T08:22:06.104Z"
    }
   },
   "outputs": [],
   "source": [
    "X_train = matrix[ (matrix.date_block_num < 33)].drop(['item_cnt_month'], axis=1)\n",
    "Y_train = matrix[ (matrix.date_block_num < 33)]['item_cnt_month']\n",
    "X_valid = matrix[matrix.date_block_num == 33].drop(['item_cnt_month'], axis=1)\n",
    "Y_valid = matrix[matrix.date_block_num == 33]['item_cnt_month']\n",
    "X_test = matrix[matrix.date_block_num == 34].drop(['item_cnt_month'], axis=1)"
   ]
  },
  {
   "cell_type": "code",
   "execution_count": null,
   "metadata": {
    "ExecuteTime": {
     "end_time": "2019-04-22T08:22:50.628021Z",
     "start_time": "2019-04-22T08:22:06.759Z"
    },
    "scrolled": false
   },
   "outputs": [],
   "source": [
    "model = XGBRegressor(\n",
    "    max_depth=8,\n",
    "    n_estimators=1000,\n",
    "    min_child_weight=300, \n",
    "    colsample_bytree=0.8, \n",
    "    subsample=0.8, \n",
    "    eta=0.3,    \n",
    "    seed=42)\n",
    "\n",
    "model.fit(\n",
    "    X_train, \n",
    "    Y_train, \n",
    "    eval_metric=\"rmse\", \n",
    "    eval_set=[(X_train, Y_train), (X_valid, Y_valid)], \n",
    "    verbose=True, \n",
    "    early_stopping_rounds = 10)\n"
   ]
  },
  {
   "cell_type": "code",
   "execution_count": null,
   "metadata": {},
   "outputs": [],
   "source": []
  }
 ],
 "metadata": {
  "kernelspec": {
   "display_name": "Python 3",
   "language": "python",
   "name": "python3"
  },
  "language_info": {
   "codemirror_mode": {
    "name": "ipython",
    "version": 3
   },
   "file_extension": ".py",
   "mimetype": "text/x-python",
   "name": "python",
   "nbconvert_exporter": "python",
   "pygments_lexer": "ipython3",
   "version": "3.6.7"
  }
 },
 "nbformat": 4,
 "nbformat_minor": 2
}
